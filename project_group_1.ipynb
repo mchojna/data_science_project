{
 "cells": [
  {
   "metadata": {},
   "cell_type": "markdown",
   "source": "# Crime Data Analysis and Classification",
   "id": "a9bab2e39bf206e2"
  },
  {
   "metadata": {},
   "cell_type": "markdown",
   "source": "## Overview:",
   "id": "5e785769e6ad8ea3"
  },
  {
   "metadata": {},
   "cell_type": "markdown",
   "source": [
    "This script processes crime data to assign danger levels to different time and precinct combinations, trains a Gradient Boosting Classifier to predict danger levels, and evaluates the model's performance. The code includes the following steps:\n",
    "\n",
    "1. Exploring dataset.\n",
    "2. Cleaning dataset.\n",
    "3. Analysing dataset.\n",
    "4. Mapping weights to crime categories.\n",
    "5. Aggregating the data by time and precinct.\n",
    "6. Defining danger levels based on crime count thresholds.\n",
    "7. Preparing the data for training.\n",
    "8. Training a Gradient Boosting Classifier using GridSearchCV\n",
    "9. Evaluating the model's performance."
   ],
   "id": "81b9369058c278bb"
  },
  {
   "metadata": {},
   "cell_type": "markdown",
   "source": "## Requirements:",
   "id": "f0d00b4e170f203a"
  },
  {
   "metadata": {},
   "cell_type": "markdown",
   "source": [
    "### The following Python packages are required to run this script:\n",
    "- numpy\n",
    "- pandas\n",
    "- scikit-learn"
   ],
   "id": "39063923c3b9af43"
  },
  {
   "metadata": {},
   "cell_type": "markdown",
   "source": "## Running:",
   "id": "7d83c9f014542ceb"
  },
  {
   "metadata": {},
   "cell_type": "markdown",
   "source": "To run the code you need to have dataset downloaded from: https://data.cityofnewyork.us/Public-Safety/NYPD-Complaint-Data-Historic/qgea-i56i, under the name: \"NYPD_Complaint_Data_Historic.csv\" in the directory with the code and then run all the cells below.",
   "id": "d1c2575ad8b947d3"
  },
  {
   "metadata": {},
   "cell_type": "markdown",
   "source": "## 1. Importing Libraries:\n",
   "id": "15203215c6388ed0"
  },
  {
   "metadata": {
    "ExecuteTime": {
     "end_time": "2024-06-11T10:18:11.106726Z",
     "start_time": "2024-06-11T10:18:09.543990Z"
    }
   },
   "cell_type": "code",
   "source": [
    "import pandas as pd\n",
    "import numpy as np\n",
    "from sklearn.model_selection import train_test_split, GridSearchCV\n",
    "from sklearn.ensemble import GradientBoostingClassifier\n",
    "from sklearn.metrics import classification_report"
   ],
   "id": "25e03297ba007b75",
   "outputs": [],
   "execution_count": 1
  },
  {
   "metadata": {},
   "cell_type": "markdown",
   "source": [
    "pandas, numpy: For data manipulation and analysis.\n",
    "\n",
    "train_test_split, GridSearchCV: For splitting the data and hyperparameter tuning.\n",
    "\n",
    "GradientBoostingClassifier: The machine learning model used.\n",
    "\n",
    "classification_report: For evaluating model performance."
   ],
   "id": "34a3805524ba2dcf"
  },
  {
   "metadata": {},
   "cell_type": "markdown",
   "source": "## 2. Exploring Dataset:",
   "id": "44c240f79bb45a3c"
  },
  {
   "metadata": {},
   "cell_type": "code",
   "outputs": [],
   "execution_count": null,
   "source": [
    "# API\n",
    "# import requests\n",
    "# import json\n",
    "#\n",
    "# url = \"https://data.cityofnewyork.us/resource/qgea-i56i.json?\"\n",
    "#\n",
    "# response = requests.get(url)\n",
    "#\n",
    "# if response.status_code == 200:\n",
    "#     data = response.json()\n",
    "#     file_path = \"NYPD_Complaint_Data_Historic.json\"\n",
    "#     with open(file_path, \"w\") as file:\n",
    "#         json.dump(data, file)\n",
    "#     file_path\n",
    "# else:\n",
    "#     response.status_code\n",
    "# import pandas as pd\n",
    "#\n",
    "# file_path = \"NYPD_Complaint_Data_Historic.json\"\n",
    "# with open(file_path, \"r\") as file:\n",
    "#     data = json.load(file)\n",
    "#\n",
    "# df = pd.DataFrame(data)"
   ],
   "id": "32ebe8a280054173"
  },
  {
   "metadata": {},
   "cell_type": "markdown",
   "source": "Sends a GET request to the New York City Open Data API to fetch historical NYPD complaint data, however we did not use it as it is limited to get only 1000 rows per request",
   "id": "eb59f0806e3685a5"
  },
  {
   "metadata": {
    "ExecuteTime": {
     "end_time": "2024-06-11T10:19:02.609767Z",
     "start_time": "2024-06-11T10:18:11.108133Z"
    }
   },
   "cell_type": "code",
   "source": "df = pd.read_csv(\"NYPD_Complaint_Data_Historic.csv\", sep = \",\")",
   "id": "f44386b9d6f96b73",
   "outputs": [
    {
     "name": "stderr",
     "output_type": "stream",
     "text": [
      "/var/folders/xk/_55wh_553_53h3nkb0_2byvw0000gn/T/ipykernel_29276/3086326548.py:1: DtypeWarning: Columns (0) have mixed types. Specify dtype option on import or set low_memory=False.\n",
      "  df = pd.read_csv(\"NYPD_Complaint_Data_Historic.csv\", sep = \",\")\n"
     ]
    }
   ],
   "execution_count": 2
  },
  {
   "metadata": {},
   "cell_type": "markdown",
   "source": "Reads the historical NYPD complaint data from a CSV file into a pandas DataFrame",
   "id": "2c2f475d9a6bb125"
  },
  {
   "metadata": {
    "ExecuteTime": {
     "end_time": "2024-06-11T10:19:02.679206Z",
     "start_time": "2024-06-11T10:19:02.618274Z"
    }
   },
   "cell_type": "code",
   "source": [
    "print(\"First 10 rows of the data:\")\n",
    "print(df.head(10))"
   ],
   "id": "b576d0efb9cf8b94",
   "outputs": [
    {
     "name": "stdout",
     "output_type": "stream",
     "text": [
      "First 10 rows of the data:\n",
      "  CMPLNT_NUM CMPLNT_FR_DT CMPLNT_FR_TM CMPLNT_TO_DT CMPLNT_TO_TM  ADDR_PCT_CD  \\\n",
      "0   39468181   02/20/2008     07:00:00   02/23/2008     08:00:00         88.0   \n",
      "1   50539499   08/21/2008     22:00:00   08/21/2008     23:00:00         19.0   \n",
      "2   45223390   04/03/2008     03:35:00   04/03/2008     03:50:00         77.0   \n",
      "3   50594658   08/19/2008     09:00:00          NaN       (null)         32.0   \n",
      "4   44451016   03/10/2008     22:00:00   03/10/2008     22:10:00         67.0   \n",
      "5   49918184   08/08/2008     01:30:00   08/08/2008     01:34:00         34.0   \n",
      "6   55066472   12/21/2008     06:07:00          NaN       (null)         78.0   \n",
      "7   55244936   12/27/2008     02:04:00          NaN       (null)         23.0   \n",
      "8   47391386   06/19/2008     15:30:00   06/19/2008     16:30:00         61.0   \n",
      "9   45814265   04/19/2008     19:45:00   04/19/2008     19:50:00         83.0   \n",
      "\n",
      "       RPT_DT  KY_CD                       OFNS_DESC  PD_CD  ... SUSP_SEX  \\\n",
      "0  02/23/2008    107                        BURGLARY  221.0  ...   (null)   \n",
      "1  08/22/2008    109                   GRAND LARCENY  438.0  ...   (null)   \n",
      "2  04/03/2008    106                  FELONY ASSAULT  109.0  ...   (null)   \n",
      "3  08/27/2008    341                   PETIT LARCENY  349.0  ...   (null)   \n",
      "4  03/11/2008    105                         ROBBERY  397.0  ...        M   \n",
      "5  08/08/2008    355     OFFENSES AGAINST THE PERSON  115.0  ...   (null)   \n",
      "6  12/21/2008    344    ASSAULT 3 & RELATED OFFENSES  101.0  ...        M   \n",
      "7  12/27/2008    347  INTOXICATED & IMPAIRED DRIVING  905.0  ...   (null)   \n",
      "8  06/20/2008    352               CRIMINAL TRESPASS  205.0  ...   (null)   \n",
      "9  04/19/2008    578                   HARRASSMENT 2  637.0  ...        M   \n",
      "\n",
      "  TRANSIT_DISTRICT   Latitude  Longitude                      Lat_Lon  \\\n",
      "0              NaN  40.692464 -73.972708      (40.692464, -73.972708)   \n",
      "1              NaN  40.771341 -73.953418      (40.771341, -73.953418)   \n",
      "2              NaN  40.671245 -73.926713      (40.671245, -73.926713)   \n",
      "3              NaN  40.813412 -73.943226      (40.813412, -73.943226)   \n",
      "4              NaN  40.650142 -73.944674      (40.650142, -73.944674)   \n",
      "5              NaN  40.855233 -73.929406      (40.855233, -73.929406)   \n",
      "6              NaN  40.669126 -73.973071      (40.669126, -73.973071)   \n",
      "7              NaN  40.791570 -73.944677  (40.79156983, -73.94467676)   \n",
      "8              NaN  40.605188 -73.952509      (40.605188, -73.952509)   \n",
      "9              NaN  40.689954 -73.916924      (40.689954, -73.916924)   \n",
      "\n",
      "               PATROL_BORO STATION_NAME  VIC_AGE_GROUP        VIC_RACE VIC_SEX  \n",
      "0  PATROL BORO BKLYN NORTH       (null)          25-44           WHITE       F  \n",
      "1    PATROL BORO MAN NORTH       (null)          45-64  WHITE HISPANIC       F  \n",
      "2  PATROL BORO BKLYN NORTH       (null)          25-44           BLACK       F  \n",
      "3    PATROL BORO MAN NORTH       (null)         (null)         UNKNOWN       M  \n",
      "4  PATROL BORO BKLYN SOUTH       (null)          25-44           BLACK       M  \n",
      "5    PATROL BORO MAN NORTH       (null)         (null)         UNKNOWN       E  \n",
      "6  PATROL BORO BKLYN SOUTH       (null)          25-44           WHITE       M  \n",
      "7    PATROL BORO MAN NORTH       (null)         (null)         UNKNOWN       E  \n",
      "8  PATROL BORO BKLYN SOUTH       (null)          18-24  WHITE HISPANIC       F  \n",
      "9  PATROL BORO BKLYN NORTH       (null)          25-44  WHITE HISPANIC       F  \n",
      "\n",
      "[10 rows x 35 columns]\n"
     ]
    }
   ],
   "execution_count": 3
  },
  {
   "metadata": {},
   "cell_type": "markdown",
   "source": "Prints first 10 rows",
   "id": "646e0884f9acdad4"
  },
  {
   "metadata": {
    "ExecuteTime": {
     "end_time": "2024-06-11T10:19:02.685949Z",
     "start_time": "2024-06-11T10:19:02.682220Z"
    }
   },
   "cell_type": "code",
   "source": "print(\"Shape of the data:\", df.shape)",
   "id": "f5718f6442d428c0",
   "outputs": [
    {
     "name": "stdout",
     "output_type": "stream",
     "text": [
      "Shape of the data: (8914838, 35)\n"
     ]
    }
   ],
   "execution_count": 4
  },
  {
   "metadata": {},
   "cell_type": "markdown",
   "source": "Prints shape of the data",
   "id": "fd81e4c82c8d3203"
  },
  {
   "metadata": {
    "ExecuteTime": {
     "end_time": "2024-06-11T10:19:02.690391Z",
     "start_time": "2024-06-11T10:19:02.687702Z"
    }
   },
   "cell_type": "code",
   "source": "print(\"Columns in the data:\", df.columns)",
   "id": "6a5750368f3f73dd",
   "outputs": [
    {
     "name": "stdout",
     "output_type": "stream",
     "text": [
      "Columns in the data: Index(['CMPLNT_NUM', 'CMPLNT_FR_DT', 'CMPLNT_FR_TM', 'CMPLNT_TO_DT',\n",
      "       'CMPLNT_TO_TM', 'ADDR_PCT_CD', 'RPT_DT', 'KY_CD', 'OFNS_DESC', 'PD_CD',\n",
      "       'PD_DESC', 'CRM_ATPT_CPTD_CD', 'LAW_CAT_CD', 'BORO_NM',\n",
      "       'LOC_OF_OCCUR_DESC', 'PREM_TYP_DESC', 'JURIS_DESC', 'JURISDICTION_CODE',\n",
      "       'PARKS_NM', 'HADEVELOPT', 'HOUSING_PSA', 'X_COORD_CD', 'Y_COORD_CD',\n",
      "       'SUSP_AGE_GROUP', 'SUSP_RACE', 'SUSP_SEX', 'TRANSIT_DISTRICT',\n",
      "       'Latitude', 'Longitude', 'Lat_Lon', 'PATROL_BORO', 'STATION_NAME',\n",
      "       'VIC_AGE_GROUP', 'VIC_RACE', 'VIC_SEX'],\n",
      "      dtype='object')\n"
     ]
    }
   ],
   "execution_count": 5
  },
  {
   "metadata": {},
   "cell_type": "markdown",
   "source": "Prints columns of the data",
   "id": "2bf3f31801f99dc0"
  },
  {
   "metadata": {
    "ExecuteTime": {
     "end_time": "2024-06-11T10:19:06.005197Z",
     "start_time": "2024-06-11T10:19:02.691362Z"
    }
   },
   "cell_type": "code",
   "source": [
    "print(\"Descriptive statistics of the data:\")\n",
    "print(df.describe())"
   ],
   "id": "c37ce7fc7307d9b4",
   "outputs": [
    {
     "name": "stdout",
     "output_type": "stream",
     "text": [
      "Descriptive statistics of the data:\n",
      "        ADDR_PCT_CD         KY_CD         PD_CD  JURISDICTION_CODE  \\\n",
      "count  8.914067e+06  8.914838e+06  8.907245e+06       8.914838e+06   \n",
      "mean   6.336865e+01  2.972099e+02  4.124253e+02       6.833533e-01   \n",
      "std    3.459529e+01  1.521695e+02  2.181523e+02       6.498413e+00   \n",
      "min    1.000000e+00  1.010000e+02  1.000000e+02       0.000000e+00   \n",
      "25%    4.000000e+01  1.170000e+02  2.540000e+02       0.000000e+00   \n",
      "50%    6.300000e+01  3.410000e+02  3.610000e+02       0.000000e+00   \n",
      "75%    9.400000e+01  3.510000e+02  6.370000e+02       0.000000e+00   \n",
      "max    1.230000e+02  8.810000e+02  9.750000e+02       9.700000e+01   \n",
      "\n",
      "         X_COORD_CD    Y_COORD_CD  TRANSIT_DISTRICT      Latitude  \\\n",
      "count  8.914372e+06  8.914372e+06     198045.000000  8.914372e+06   \n",
      "mean   1.004946e+06  2.072020e+05         13.843293  4.073530e+01   \n",
      "std    2.150845e+04  3.035500e+04         12.541970  9.481303e-02   \n",
      "min    0.000000e+00  0.000000e+00          1.000000  0.000000e+00   \n",
      "25%    9.916910e+05  1.845420e+05          3.000000  4.067316e+01   \n",
      "50%    1.004418e+06  2.062630e+05         11.000000  4.073280e+01   \n",
      "75%    1.016866e+06  2.351530e+05         30.000000  4.081211e+01   \n",
      "max    1.067306e+06  2.719090e+05         34.000000  4.091296e+01   \n",
      "\n",
      "          Longitude  \n",
      "count  8.914372e+06  \n",
      "mean  -7.392519e+01  \n",
      "std    1.128896e-01  \n",
      "min   -7.425495e+01  \n",
      "25%   -7.397315e+01  \n",
      "50%   -7.392718e+01  \n",
      "75%   -7.388222e+01  \n",
      "max    0.000000e+00  \n"
     ]
    }
   ],
   "execution_count": 6
  },
  {
   "metadata": {},
   "cell_type": "markdown",
   "source": "Prints descriptive statistics",
   "id": "2a9a22468bc26ada"
  },
  {
   "metadata": {
    "ExecuteTime": {
     "end_time": "2024-06-11T10:19:06.031937Z",
     "start_time": "2024-06-11T10:19:06.006287Z"
    }
   },
   "cell_type": "code",
   "source": [
    "print(\"Info about the data:\")\n",
    "df.info()"
   ],
   "id": "98c51e93f98178ca",
   "outputs": [
    {
     "name": "stdout",
     "output_type": "stream",
     "text": [
      "Info about the data:\n",
      "<class 'pandas.core.frame.DataFrame'>\n",
      "RangeIndex: 8914838 entries, 0 to 8914837\n",
      "Data columns (total 35 columns):\n",
      " #   Column             Dtype  \n",
      "---  ------             -----  \n",
      " 0   CMPLNT_NUM         object \n",
      " 1   CMPLNT_FR_DT       object \n",
      " 2   CMPLNT_FR_TM       object \n",
      " 3   CMPLNT_TO_DT       object \n",
      " 4   CMPLNT_TO_TM       object \n",
      " 5   ADDR_PCT_CD        float64\n",
      " 6   RPT_DT             object \n",
      " 7   KY_CD              int64  \n",
      " 8   OFNS_DESC          object \n",
      " 9   PD_CD              float64\n",
      " 10  PD_DESC            object \n",
      " 11  CRM_ATPT_CPTD_CD   object \n",
      " 12  LAW_CAT_CD         object \n",
      " 13  BORO_NM            object \n",
      " 14  LOC_OF_OCCUR_DESC  object \n",
      " 15  PREM_TYP_DESC      object \n",
      " 16  JURIS_DESC         object \n",
      " 17  JURISDICTION_CODE  int64  \n",
      " 18  PARKS_NM           object \n",
      " 19  HADEVELOPT         object \n",
      " 20  HOUSING_PSA        object \n",
      " 21  X_COORD_CD         float64\n",
      " 22  Y_COORD_CD         float64\n",
      " 23  SUSP_AGE_GROUP     object \n",
      " 24  SUSP_RACE          object \n",
      " 25  SUSP_SEX           object \n",
      " 26  TRANSIT_DISTRICT   float64\n",
      " 27  Latitude           float64\n",
      " 28  Longitude          float64\n",
      " 29  Lat_Lon            object \n",
      " 30  PATROL_BORO        object \n",
      " 31  STATION_NAME       object \n",
      " 32  VIC_AGE_GROUP      object \n",
      " 33  VIC_RACE           object \n",
      " 34  VIC_SEX            object \n",
      "dtypes: float64(7), int64(2), object(26)\n",
      "memory usage: 2.3+ GB\n"
     ]
    }
   ],
   "execution_count": 7
  },
  {
   "metadata": {},
   "cell_type": "markdown",
   "source": "Prints information about the data",
   "id": "37e58e3d44e07575"
  },
  {
   "metadata": {
    "ExecuteTime": {
     "end_time": "2024-06-11T10:19:48.806508Z",
     "start_time": "2024-06-11T10:19:06.033226Z"
    }
   },
   "cell_type": "code",
   "source": [
    "print(\"Data types of each column:\")\n",
    "for col in df.columns:\n",
    "    t = set()\n",
    "    for item in df[col]:\n",
    "        t.add(type(item))\n",
    "    print(f\"Column '{col}' has types: {t}\")"
   ],
   "id": "72bb72c023bca4c5",
   "outputs": [
    {
     "name": "stdout",
     "output_type": "stream",
     "text": [
      "Data types of each column:\n",
      "Column 'CMPLNT_NUM' has types: {<class 'str'>, <class 'int'>}\n",
      "Column 'CMPLNT_FR_DT' has types: {<class 'float'>, <class 'str'>}\n",
      "Column 'CMPLNT_FR_TM' has types: {<class 'str'>}\n",
      "Column 'CMPLNT_TO_DT' has types: {<class 'float'>, <class 'str'>}\n",
      "Column 'CMPLNT_TO_TM' has types: {<class 'str'>}\n",
      "Column 'ADDR_PCT_CD' has types: {<class 'float'>}\n",
      "Column 'RPT_DT' has types: {<class 'str'>}\n",
      "Column 'KY_CD' has types: {<class 'int'>}\n",
      "Column 'OFNS_DESC' has types: {<class 'str'>}\n",
      "Column 'PD_CD' has types: {<class 'float'>}\n",
      "Column 'PD_DESC' has types: {<class 'str'>}\n",
      "Column 'CRM_ATPT_CPTD_CD' has types: {<class 'str'>}\n",
      "Column 'LAW_CAT_CD' has types: {<class 'str'>}\n",
      "Column 'BORO_NM' has types: {<class 'str'>}\n",
      "Column 'LOC_OF_OCCUR_DESC' has types: {<class 'float'>, <class 'str'>}\n",
      "Column 'PREM_TYP_DESC' has types: {<class 'str'>}\n",
      "Column 'JURIS_DESC' has types: {<class 'str'>}\n",
      "Column 'JURISDICTION_CODE' has types: {<class 'int'>}\n",
      "Column 'PARKS_NM' has types: {<class 'str'>}\n",
      "Column 'HADEVELOPT' has types: {<class 'str'>}\n",
      "Column 'HOUSING_PSA' has types: {<class 'str'>}\n",
      "Column 'X_COORD_CD' has types: {<class 'float'>}\n",
      "Column 'Y_COORD_CD' has types: {<class 'float'>}\n",
      "Column 'SUSP_AGE_GROUP' has types: {<class 'str'>}\n",
      "Column 'SUSP_RACE' has types: {<class 'str'>}\n",
      "Column 'SUSP_SEX' has types: {<class 'str'>}\n",
      "Column 'TRANSIT_DISTRICT' has types: {<class 'float'>}\n",
      "Column 'Latitude' has types: {<class 'float'>}\n",
      "Column 'Longitude' has types: {<class 'float'>}\n",
      "Column 'Lat_Lon' has types: {<class 'float'>, <class 'str'>}\n",
      "Column 'PATROL_BORO' has types: {<class 'str'>}\n",
      "Column 'STATION_NAME' has types: {<class 'str'>}\n",
      "Column 'VIC_AGE_GROUP' has types: {<class 'str'>}\n",
      "Column 'VIC_RACE' has types: {<class 'str'>}\n",
      "Column 'VIC_SEX' has types: {<class 'str'>}\n"
     ]
    }
   ],
   "execution_count": 8
  },
  {
   "metadata": {},
   "cell_type": "markdown",
   "source": "Prints data types of each column",
   "id": "d8a9624ec5fd7e18"
  },
  {
   "metadata": {
    "ExecuteTime": {
     "end_time": "2024-06-11T10:20:05.066484Z",
     "start_time": "2024-06-11T10:19:48.808424Z"
    }
   },
   "cell_type": "code",
   "source": [
    "print(\"Unique values in each column:\")\n",
    "for col in df.columns:\n",
    "    print(f\"Column '{col}' unique values:\", df[col].unique())"
   ],
   "id": "f3ed9687db3528c8",
   "outputs": [
    {
     "name": "stdout",
     "output_type": "stream",
     "text": [
      "Unique values in each column:\n",
      "Column 'CMPLNT_NUM' unique values: [39468181 50539499 45223390 ... 49520303 47521554 51084712]\n",
      "Column 'CMPLNT_FR_DT' unique values: ['02/20/2008' '08/21/2008' '04/03/2008' ... '01/20/2004' '11/13/1998'\n",
      " '08/05/1999']\n",
      "Column 'CMPLNT_FR_TM' unique values: ['07:00:00' '22:00:00' '03:35:00' ... '00:00:01' '05:59:00' '06:31:00']\n",
      "Column 'CMPLNT_TO_DT' unique values: ['02/23/2008' '08/21/2008' '04/03/2008' ... '07/07/1999' '06/16/2003'\n",
      " '07/31/1994']\n",
      "Column 'CMPLNT_TO_TM' unique values: ['08:00:00' '23:00:00' '03:50:00' ... '05:54:00' '07:48:00' '06:53:00']\n",
      "Column 'ADDR_PCT_CD' unique values: [ 88.  19.  77.  32.  67.  34.  78.  23.  61.  83.  66.  62.  20.  44.\n",
      "  17.  70.  73.  63.  46.  40.  28.  79.  26.  18.  24.  71.  43.  33.\n",
      "  90. 114.  69.  30. 108.  81.  50.  94.  25.  60.  42.   9.  13. 104.\n",
      "  72.  22.  52.   7. 115.  49.  47. 100.  41. 112.  75.  48. 110. 102.\n",
      " 106. 109.  45. 107. 103. 113. 105. 111. 101.   1. 120.  10. 122.  68.\n",
      "   6. 123.  nan  76.  84. 121.   5.  14.]\n",
      "Column 'RPT_DT' unique values: ['02/23/2008' '08/22/2008' '04/03/2008' ... '03/24/2007' '07/21/2007'\n",
      " '04/08/2007']\n",
      "Column 'KY_CD' unique values: [107 109 106 341 105 355 344 347 352 578 343 236 351 112 117 361 235 359\n",
      " 110 678 233 116 348 118 126 104 114 113 350 340 231 572 121 365 353 124\n",
      " 125 364 122 111 232 360 358 342 238 675 346 237 120 345 672 363 234 119\n",
      " 356 115 677 571 685 102 354 103 460 230 455 366 881 101 349 577 676 362\n",
      " 357 123 250]\n",
      "Column 'OFNS_DESC' unique values: ['BURGLARY' 'GRAND LARCENY' 'FELONY ASSAULT' 'PETIT LARCENY' 'ROBBERY'\n",
      " 'OFFENSES AGAINST THE PERSON' 'ASSAULT 3 & RELATED OFFENSES'\n",
      " 'INTOXICATED & IMPAIRED DRIVING' 'CRIMINAL TRESPASS' 'HARRASSMENT 2'\n",
      " 'OTHER OFFENSES RELATED TO THEF' 'DANGEROUS WEAPONS'\n",
      " 'CRIMINAL MISCHIEF & RELATED OF' 'THEFT-FRAUD' 'DANGEROUS DRUGS'\n",
      " 'OFF. AGNST PUB ORD SENSBLTY &' 'OFFENSES AGAINST PUBLIC ADMINI'\n",
      " 'GRAND LARCENY OF MOTOR VEHICLE' 'MISCELLANEOUS PENAL LAW' 'SEX CRIMES'\n",
      " 'VEHICLE AND TRAFFIC LAWS' 'RAPE' 'ARSON' 'FORGERY' 'GAMBLING' 'FRAUDS'\n",
      " \"BURGLAR'S TOOLS\" 'DISORDERLY CONDUCT' 'ADMINISTRATIVE CODE'\n",
      " 'UNAUTHORIZED USE OF A VEHICLE' 'KIDNAPPING & RELATED OFFENSES'\n",
      " 'NYS LAWS-UNCLASSIFIED FELONY' 'OTHER STATE LAWS (NON PENAL LA'\n",
      " 'POSSESSION OF STOLEN PROPERTY' '(null)' 'OFFENSES INVOLVING FRAUD'\n",
      " 'PETIT LARCENY OF MOTOR VEHICLE' 'FRAUDULENT ACCOSTING'\n",
      " 'ALCOHOLIC BEVERAGE CONTROL LAW' 'ESCAPE 3' 'THEFT OF SERVICES'\n",
      " 'CHILD ABANDONMENT/NON SUPPORT' 'OFFENSES RELATED TO CHILDREN'\n",
      " 'LOITERING' 'OFFENSES AGAINST PUBLIC SAFETY' 'ENDAN WELFARE INCOMP'\n",
      " 'PROSTITUTION & RELATED OFFENSES' 'INTOXICATED/IMPAIRED DRIVING'\n",
      " 'OTHER STATE LAWS' 'LOITERING/GAMBLING (CARDS, DIC'\n",
      " 'ADMINISTRATIVE CODES' 'HOMICIDE-NEGLIGENT-VEHICLE'\n",
      " 'ANTICIPATORY OFFENSES' 'HOMICIDE-NEGLIGENT,UNCLASSIFIE'\n",
      " 'LOITERING/DEVIATE SEX' 'LOITERING FOR DRUG PURPOSES' 'JOSTLING'\n",
      " 'UNLAWFUL POSS. WEAP. ON SCHOOL' 'NEW YORK CITY HEALTH CODE'\n",
      " 'OTHER TRAFFIC INFRACTION' 'MURDER & NON-NEGL. MANSLAUGHTER'\n",
      " 'DISRUPTION OF A RELIGIOUS SERV' 'UNDER THE INFLUENCE OF DRUGS'\n",
      " 'OFFENSES AGAINST MARRIAGE UNCL' 'FORTUNE TELLING'\n",
      " 'OTHER STATE LAWS (NON PENAL LAW)' 'KIDNAPPING'\n",
      " 'AGRICULTURE & MRKTS LAW-UNCLASSIFIED' 'KIDNAPPING AND RELATED OFFENSES'\n",
      " 'NYS LAWS-UNCLASSIFIED VIOLATION' 'ABORTION' 'FELONY SEX CRIMES'\n",
      " 'CANNABIS RELATED OFFENSES']\n",
      "Column 'PD_CD' unique values: [221. 438. 109. 349. 397. 115. 101. 905. 205. 637. 223. 213. 638. 478.\n",
      " 782. 321. 254. 739. 500. 113. 639. 501. 259. 361. 567. 749. 338. 405.\n",
      " 441. 343. 333. 566. 175. 179. 415. 511. 916. 793. 258. 393. 419. 112.\n",
      " 157. 503. 681. 759. 263. 729. 750. 451. 244. 537. 718. 748. 457. 209.\n",
      " 760. 519. 568. 110. 339. 625. 569. 335. 922. 211. 267. 153. 779. 461.\n",
      " 106. 357. 781. 269. 399. 307. 421. 708. 707. 313. 367. 377. 417. 878.\n",
      " 388. 462. 256. 183. 505. 847. 848. 155. 557. 512. 159. 204. 493. 191.\n",
      " 548. 490. 168. 403. 398. 233. 439. 384. 198. 363. 731. 507. 407. 389.\n",
      " 643. 494. 705. 515. 853. 224. 524. 264. 730. 711. 727. 193. 509. 111.\n",
      " 203. 744. 231. 350. 305. 327. 395. 466. 170. 510. 649. 117. 391. 640.\n",
      " 661. 301. 371. 858. 261. 435. 413. 802. 277. 723. 347. 725. 703. 382.\n",
      " 742. 502. 197. 521. 489. 414. 443. 214. 475. 243. 181. 644. 380. 514.\n",
      " 477. 273. 303. 695. 683. 401. 442. 792. 409. 614. 761. 433. 775. 659.\n",
      " 544. 764. 366. 532. 375. 392. 185. 508. 271. 918. 199. 674. 201. 652.\n",
      " 241. 788. 570. 746. 479. 688. 234. 862. 329. 341. 423. 829. 379. 574.\n",
      " 381. 385. 772. 880. 596. 879. 799. 706. 498. 180. 754. 907. 770. 809.\n",
      " 890. 904. 455. 164. 265. 647. 766. 450. 808. 719. 266. 605. 587. 849.\n",
      " 724. 431. 594. 553. 899. 789. 352. 565. 491. 576. 447. 610. 588. 591.\n",
      " 762. 386. 360. 107. 293. 665. 445. 780. 872. 531. 122. 351. 345. 585.\n",
      " 633. 365. 422. 584. 281. 373. 866. 342. 520. 476. 166. 563. 672. 283.\n",
      " 874. 396. 693. 533. 125. 195. 119. 586. 701. 697. 174. 602. 289. 331.\n",
      " 275. 604. 464. 299. 104. 595. 864. 291. 826. 187. 645. 297. 641. 687.\n",
      " 663. 323. 619. 121. 529. 803. 429. 662. 868. 887. 696. 888. 969. 177.\n",
      " 733. 412. 394. 669. 146.  nan 812. 721. 434. 114. 432. 627. 784. 428.\n",
      " 390. 561. 593. 589. 756. 841. 437. 420. 622. 786. 889. 530. 248. 689.\n",
      " 892. 618. 715. 691. 796. 427. 811. 285. 648. 787. 105. 268. 797. 821.\n",
      " 468. 822. 836. 355. 685. 840. 522. 410. 408. 664. 737. 513. 646. 860.\n",
      " 162. 176. 404. 411. 424. 406. 418. 425. 827. 430. 402. 426. 416. 436.\n",
      " 839. 186. 102. 698. 820. 694. 523. 815. 818. 817. 844. 387. 184. 975.\n",
      " 344. 845. 846. 861. 843. 814. 143. 383. 876. 178. 667. 783. 108. 813.\n",
      " 798. 103. 877. 785. 458. 353. 459. 100. 440. 579. 581. 582. 577. 578.\n",
      " 885. 631. 583. 580. 917. 790. 819. 148. 678.]\n",
      "Column 'PD_DESC' unique values: ['BURGLARY,RESIDENCE,DAY'\n",
      " 'LARCENY,GRAND FROM BUILDING (NON-RESIDENCE) UNATTENDED'\n",
      " 'ASSAULT 2,1,UNCLASSIFIED' 'LARCENY,PETIT OF LICENSE PLATE'\n",
      " 'ROBBERY,OPEN AREA UNCLASSIFIED' 'RECKLESS ENDANGERMENT 2' 'ASSAULT 3'\n",
      " 'INTOXICATED DRIVING,ALCOHOL' 'TRESPASS 2, CRIMINAL'\n",
      " 'HARASSMENT,SUBD 1,CIVILIAN' 'BURGLARY,RESIDENCE,NIGHT'\n",
      " 'BURGLARY,COMMERCIAL,NIGHT' 'HARASSMENT,SUBD 3,4,5'\n",
      " 'THEFT OF SERVICES, UNCLASSIFIE' 'WEAPONS, POSSESSION, ETC'\n",
      " 'LARCENY,PETIT FROM AUTO' 'MISCHIEF, CRIMINAL 4, OF MOTOR'\n",
      " 'FRAUD,UNCLASSIFIED-FELONY' 'CONTROLLED SUBSTANCE,POSSESS.'\n",
      " 'MENACING,UNCLASSIFIED' 'AGGRAVATED HARASSMENT 2'\n",
      " 'CRIMINAL MISCHIEF,UNCLASSIFIED 4' 'ROBBERY,BANK'\n",
      " 'MARIJUANA, POSSESSION 4 & 5' 'VIOLATION OF ORDER OF PROTECTI'\n",
      " 'LARCENY,PETIT FROM BUILDING,UN' 'LARCENY,GRAND BY THEFT OF CREDIT CARD'\n",
      " 'LARCENY,GRAND OF AUTO' 'LARCENY,PETIT OF BICYCLE'\n",
      " 'LARCENY,PETIT FROM STORE-SHOPL' 'MARIJUANA, POSSESSION'\n",
      " 'SEXUAL ABUSE 3,2' 'AGGRAVATED SEXUAL ASBUSE'\n",
      " 'LARCENY,GRAND FROM PERSON,PICK' 'CONTROLLED SUBSTANCE, POSSESSI'\n",
      " 'LEAVING SCENE-ACCIDENT-PERSONA' 'WEAPONS POSSESSION 3'\n",
      " 'CRIMINAL MISCHIEF 4TH, GRAFFIT' 'ROBBERY,OF TRUCK DRIVER'\n",
      " 'LARCENY,GRAND FROM PERSON,UNCL' 'MENACING 1ST DEGREE (VICT NOT' 'RAPE 1'\n",
      " 'CONTROLLED SUBSTANCE,INTENT TO' 'CHILD, ENDANGERING WELFARE'\n",
      " 'PUBLIC ADMINISTATION,UNCLASS M' 'ARSON 2,3,4'\n",
      " 'FORGERY,ETC.,UNCLASSIFIED-FELO' 'RESISTING ARREST'\n",
      " 'LARCENY,GRAND OF MOTORCYCLE' 'BURGLARY,UNCLASSIFIED,UNKNOWN'\n",
      " 'GAMBLING 2, PROMOTING, POLICY-' 'FRAUD,UNCLASSIFIED-MISDEMEANOR'\n",
      " 'CONTEMPT,CRIMINAL' 'LARCENY,GRAND OF VEHICULAR/MOTORCYCLE ACCESSORIES'\n",
      " 'BURGLARS TOOLS,UNCLASSIFIED' 'BRIBERY,PUBLIC ADMINISTRATION'\n",
      " 'SALE SCHOOL GROUNDS 4' 'MARIJUANA, POSSESSION 1, 2 & 3'\n",
      " 'MENACING 1ST DEGREE (VICT PEAC' 'LARCENY,PETIT FROM OPEN AREAS,'\n",
      " 'DISORDERLY CONDUCT' 'MARIJUANA, SALE 4 & 5' 'LARCENY,PETIT FROM TRUCK'\n",
      " 'TRAFFIC,UNCLASSIFIED MISDEMEAN' 'BURGLARY,COMMERCIAL,DAY'\n",
      " 'MISCHIEF, CRIMINAL 3 & 2, OF M' 'RAPE 3'\n",
      " 'PUBLIC ADMINISTRATION,UNCLASSI' 'UNAUTHORIZED USE VEHICLE 2'\n",
      " 'ASSAULT POLICE/PEACE OFFICER' 'LARCENY,PETIT OF VEHICLE ACCES'\n",
      " 'CRIMINAL DISPOSAL FIREARM 1' 'MISCHIEF,CRIMINAL,    UNCL 2ND'\n",
      " 'ROBBERY,COMMERCIAL UNCLASSIFIED' 'LARCENY,PETIT BY DISHONEST EMP'\n",
      " 'LARCENY,GRAND FROM VEHICLE/MOTORCYCLE' 'IMPERSONATION 1, POLICE OFFICE'\n",
      " 'IMPERSONATION 2, PUBLIC SERVAN' 'LARCENY,PETIT BY FALSE PROMISE'\n",
      " 'ROBBERY, CHAIN STORE' 'ROBBERY,BODEGA/CONVENIENCE STORE'\n",
      " 'LARCENY,GRAND FROM PERSON,PURS' 'ADM.CODE,UNCLASSIFIED MISDEMEA'\n",
      " 'ROBBERY,RESIDENTIAL COMMON AREA' 'UNAUTHORIZED USE VEHICLE 3'\n",
      " 'MISCHIEF, CRIMINAL 4, BY FIRE' 'IMPRISONMENT 1,UNLAWFUL'\n",
      " 'NY STATE LAWS,UNCLASSIFIED FEL' 'NY STATE LAWS,UNCLASSIFIED MIS'\n",
      " 'RAPE 2' 'GAMBLING 1,PROMOTING,POLICY' 'CONTROLLED SUBSTANCE,SALE 1'\n",
      " 'RAPE 1,ATTEMPT' 'TRESPASS 1,CRIMINAL' 'STOLEN PROPERTY-MOTOR VEH 2ND,'\n",
      " 'CUSTODIAL INTERFERENCE 2' 'GAMBLING, DEVICE, POSSESSION'\n",
      " 'STOLEN PROPERTY 3,POSSESSION' 'SODOMY 1'\n",
      " 'LARCENY,GRAND BY BANK ACCT COMPROMISE-REPRODUCED CHECK'\n",
      " 'ROBBERY,PUBLIC PLACE INSIDE' 'BURGLARY,TRUCK NIGHT'\n",
      " 'LARCENY,GRAND FROM OPEN AREAS, UNATTENDED'\n",
      " 'ROBBERY,POCKETBOOK/CARRIED BAG' 'CRIMINAL CONTEMPT 1'\n",
      " 'ROBBERY,BAR/RESTAURANT' 'SALE OF UNAUTHORIZED RECORDING'\n",
      " 'LARCENY,GRAND BY DISHONEST EMP' 'ROBBERY,DWELLING' 'ASSEMBLY,UNLAWFUL'\n",
      " 'STOLEN PROPERTY 2,1,POSSESSION' 'FORGERY,ETC.-MISD.'\n",
      " 'CONTROLLED SUBSTANCE,SALE 3' 'CIGARETTE,NO TAX STAMP,POSSESS'\n",
      " 'BURGLARY,RESIDENCE,UNKNOWN TIM' 'CONTROLLED SUBSTANCE,POSSESS.-'\n",
      " 'ARSON, MOTOR VEHICLE 1 2 3 & 4' 'MANUFACTURE UNAUTHORIZED RECOR'\n",
      " 'TAMPERING WITH A WITNESS' 'FORGERY,PRESCRIPTION'\n",
      " 'CUSTODIAL INTERFERENCE 1' 'POSSESSION HYPODERMIC INSTRUME'\n",
      " 'MENACING,PEACE OFFICER' 'TRESPASS 3, CRIMINAL' 'BAIL JUMPING 3'\n",
      " 'BURGLARY,TRUCK DAY' 'LARCENY, PETIT OF MOPED'\n",
      " 'LARCENY,PETIT BY CREDIT CARD U' 'LARCENY,PETIT FROM PARKING MET'\n",
      " 'ROBBERY,ON BUS/ OR BUS DRIVER' 'ACCOSTING,FRAUDULENT'\n",
      " 'SEXUAL MISCONDUCT,INTERCOURSE' 'CONTROLLED SUBSTANCE, INTENT T'\n",
      " 'FALSE REPORT UNCLASSIFIED' 'RECKLESS ENDANGERMENT 1'\n",
      " 'ROBBERY,LICENSED MEDALLION CAB' 'AGGRAVATED HARASSMENT 1'\n",
      " 'LEWDNESS,PUBLIC' 'LARCENY,PETIT BY ACQUIRING LOS'\n",
      " 'ROBBERY,CHECK CASHING BUSINESS' 'IMITATION PISTOL/AIR RIFLE' 'ARSON 1'\n",
      " 'LARCENY,GRAND FROM TRUCK, UNATTENDED' 'LARCENY,GRAND BY FALSE PROMISE'\n",
      " 'ALCOHOLIC BEVERAGE CONTROL LAW' 'RECKLESS ENDANGERMENT OF PROPE'\n",
      " 'FORGERY,DRIVERS LICENSE' 'PETIT LARCENY-CHECK FROM MAILB'\n",
      " 'FORGERY,M.V. REGISTRATION' 'CHECK,BAD' 'ROBBERY,NECKCHAIN/JEWELRY'\n",
      " 'ESCAPE 3' 'COERCION 1' 'CONTROLLED SUBSTANCE, SALE 5'\n",
      " 'THEFT,RELATED OFFENSES,UNCLASS' 'LARCENY,GRAND PERSON,NECK CHAI'\n",
      " 'LARCENY,GRAND OF BICYCLE' 'BURGLARY,COMMERCIAL,UNKNOWN TI'\n",
      " 'UNAUTH. SALE OF TRANS. SERVICE' 'BURGLARY,UNCLASSIFIED,NIGHT'\n",
      " 'IMPRISONMENT 2,UNLAWFUL' 'FALSE REPORT 1,FIRE' 'ROBBERY,CAR JACKING'\n",
      " 'CONTROLLED SUBSTANCE,SALE 2' 'THEFT OF SERVICES- CABLE TV SE'\n",
      " 'TAMPERING 1,CRIMINAL' 'LARCENY,PETIT BY CHECK USE' 'CHILD ABANDONMENT'\n",
      " 'CHILD,ALCOHOL SALE TO' 'LARCENY,GRAND BY ACQUIRING LOS'\n",
      " 'LARCENY, GRAND OF AUTO - ATTEM' 'CRIMINAL POSSESSION WEAPON'\n",
      " 'LARCENY,GRAND BY EXTORTION' 'LOITERING,SCHOOL' 'BRIBERY, POLICE OFFICER'\n",
      " 'LARCENY,GRAND FROM STORE-SHOPL' 'MONEY LAUNDERING 1 & 2'\n",
      " 'NUISANCE,CRIMINAL,UNCLASSIFIED' 'GAMBLING 2,PROMOTING,UNCLASSIF'\n",
      " 'BAIL JUMPING 1 & 2' 'ROBBERY,BICYCLE' 'ROBBERY,PHARMACY'\n",
      " 'ROBBERY,UNLICENSED FOR HIRE VEHICLE' 'KIDNAPPING 2'\n",
      " 'DRUG PARAPHERNALIA,   POSSESSE' 'TAMPERING 3,2, CRIMINAL'\n",
      " 'RECKLESS DRIVING' 'AGGRAVATED CRIMINAL CONTEMPT' 'EAVESDROPPING'\n",
      " 'TRESPASS 4,CRIMINAL SUB 2' 'RIOT 2/INCITING' 'BURGLARY,UNCLASSIFIED,DAY'\n",
      " 'FIREWORKS, SALE' 'MARIJUANA, SALE 1, 2 & 3' 'PERJURY 3,ETC.'\n",
      " 'INCOMPETENT PERSON,RECKLESSY ENDANGERING' 'BURGLARY, TRUCK UNKNOWN TIME'\n",
      " 'ALCOHOLIC BEVERAGES,PUBLIC CON' 'LARCENY,PETIT FROM COIN MACHIN'\n",
      " 'LARCENY,PETIT OF AUTO' 'LARCENY,GRAND FROM BOAT, UNATTENDED'\n",
      " 'LABOR LAW,EMPLOYING CHILDREN' 'ROBBERY,GAS STATION'\n",
      " 'PROSTITUTION,PERMITTING' 'ROBBERY,HIJACKING' 'ROBBERY, PAYROLL'\n",
      " 'COMPUTER TAMPER/TRESSPASS' 'POSSES OR CARRY A KNIFE'\n",
      " 'OBSCENE MATERIAL - UNDER 17 YE' 'ADM.CODE,UNCLASSIFIED VIOLATIO'\n",
      " 'PUBLIC SAFETY,UNCLASSIFIED MIS' 'RECORDS,FALSIFY-TAMPER'\n",
      " 'STOLEN PROPERTY 2,POSSESSION B' 'COURSE OF SEXUAL CONDUCT AGAIN'\n",
      " 'APPEARANCE TICKET FAIL TO RESP' 'IMPAIRED DRIVING,DRUG'\n",
      " 'COMPUTER UNAUTH. USE/TAMPER' 'TAX LAW' 'N.Y.C. TRANSIT AUTH. R&R'\n",
      " 'LARCENY,GRAND OF TRUCK' 'SODOMY 3' 'MISCHIEF 1,CRIMINAL,EXPLOSIVE'\n",
      " 'FALSE REPORT BOMB' 'PERJURY 2,1,ETC' 'LARCENY, GRAND OF MOPED'\n",
      " 'MISCHIEF, CRIMINAL 3&2, BY FIR' 'LOITERING TO PROMOTE PROSTITUT'\n",
      " 'PROSTITUTION 2, COMPULSORY' 'NY STATE LAWS,UNCLASSIFIED VIO'\n",
      " 'FORGERY-ILLEGAL POSSESSION,VEH' 'LARCENY,GRAND FROM PIER, UNATTENDED'\n",
      " 'OBSCENITY 1' 'GAMBLING 1,PROMOTING,BOOKMAKIN'\n",
      " 'PARKR&R,UNCLASSIFIED VIOLATION' 'FIREWORKS, POSSESS/USE'\n",
      " 'LARCENY,PETIT FROM BUILDING,UNATTENDED, PACKAGE THEFT INSIDE'\n",
      " 'PROSTITUTION, PATRONIZING 4, 3' 'STOLEN PROP-MOTOR VEHICLE 3RD,'\n",
      " 'PROSTITUTION 4,PROMOTING&SECUR' 'GRAND LARCENY-CHECK FROM MAILB'\n",
      " 'LOITERING,GAMBLING,OTHER' 'PROSTITUTION 2, UNDER 16'\n",
      " 'OBSCENITY, PERFORMANCE 3' 'ESCAPE 2,1'\n",
      " 'ROBBERY,PERSONAL ELECTRONIC DEVICE' 'ROBBERY,ATM LOCATION'\n",
      " 'END WELFARE VULNERABLE ELDERLY PERSON' 'CONSPIRACY 2, 1'\n",
      " 'MAKING TERRORISTIC THREAT' 'LARCENY,GRAND OF BOAT' 'NUISANCE, CRIMINAL'\n",
      " 'NOISE,UNECESSARY' 'HOMICIDE, NEGLIGENT, VEHICLE,'\n",
      " 'LARCENY,PETIT OF MOTORCYCLE' 'LARCENY,PETIT OF BOAT'\n",
      " 'PROSTITUTION 3,PROMOTING BUSIN' 'EXPOSURE OF A PERSON'\n",
      " 'ROBBERY,LIQUOR STORE' 'LARCENY,GRAND BY OPEN CREDIT CARD (NEW ACCT)'\n",
      " 'PROSTITUTION 3, PROMOTING UNDE' 'SOLICITATION 5,CRIMINAL'\n",
      " 'ROBBERY,DOCTOR/DENTIST OFFICE' 'FIREWORKS'\n",
      " 'LARCENY, PETIT OF AUTO - ATTEM' 'CONTROLLED SUBSTANCE, SALE 4'\n",
      " 'CREDIT CARD,UNLAWFUL USE OF' 'SODOMY 2' 'PROSTITUTION' 'RIOT 1'\n",
      " 'SOLICITATION 4, CRIMINAL' 'PEDDLING,UNLAWFUL'\n",
      " 'ROBBERY,BEGIN AS SHOPLIFTING' 'INCEST 1, 2'\n",
      " 'GAMBLING 2, PROMOTING, BOOKMAK' 'HOMICIDE,NEGLIGENT,UNCLASSIFIE'\n",
      " 'COERCION 2' 'PROMOTING SUICIDE ATTEMPT' 'SEX TRAFFICKING'\n",
      " 'BRIBERY,COMMERCIAL' 'USE OF A CHILD IN A SEXUAL PER'\n",
      " 'SEXUAL MISCONDUCT,DEVIATE' 'LOITERING,DEVIATE SEX' 'CONSPIRACY 6, 5'\n",
      " 'LARCENY,PETIT FROM PIER' 'POSTING ADVERTISEMENTS'\n",
      " 'LOITERING 1ST DEGREE FOR DRUG' 'JOSTLING' 'FACILITATION 3,2,1, CRIMINAL'\n",
      " 'VEHICULAR ASSAULT (INTOX DRIVE' 'UNLAWFUL POSS. WEAPON UPON SCH'\n",
      " 'BUILDING MATERIAL' 'CONSPIRACY 4, 3' 'GENERAL BUSINESS LAW,TICKET SP'\n",
      " 'KIDNAPPING 1' 'FALSE ALARM FIRE' 'FACILITATION 4, CRIMINAL'\n",
      " 'HEALTHCARE/RENT.REG.' 'CHILD,OFFENSES AGAINST,UNCLASS'\n",
      " 'SUPP. ACT TERR 2ND' 'LARCENY,PETIT FROM BOAT' 'LOITERING,UNCLASSIFIED'\n",
      " 'HOMICIDE,NEGLIGENT,VEHICLE' 'SALES OF PRESCRIPTION'\n",
      " 'A.B.C.,FALSE PROOF OF AGE' 'LARCENY,GRAND FROM COIN MACHIN'\n",
      " 'MATERIAL              OFFENSIV' 'GYPSY CAB'\n",
      " 'GRAFFITI (ADMINISTRATIVE CODE-' 'PROMOTING A SEXUAL PERFORMANCE'\n",
      " 'HEALTH CODE,UNCLASSIFIED MISDE' 'TRAFFIC,UNCLASSIFIED INFRACTIO'\n",
      " 'SEXUAL ABUSE' 'ENTERPRISE CORRUPTION'\n",
      " 'LARCENY,GRAND FROM RESIDENCE, UNATTENDED'\n",
      " 'ROBBERY,LICENSED FOR HIRE VEHICLE' 'PRIVACY,OFFENSES AGAINST,UNCLA'\n",
      " 'ABORTION 2, 1, SELF' '(null)' 'AGRICULTURE & MARKETS LAW,UNCL'\n",
      " 'BRIBERY,FRAUD' 'LARCENY,GRAND BY OPEN BANK ACCT' 'OBSTR BREATH/CIRCUL'\n",
      " 'LARCENY,GRAND BY IDENTITY THEFT-UNCLASSIFIED' 'DIS. CON.,AGGRAVATED'\n",
      " 'WEAPONS,MFR,TRANSPORT,ETC.'\n",
      " 'LARCENY,GRAND BY BANK ACCT COMPROMISE-UNAUTHORIZED PURCHASE'\n",
      " 'ROBBERY,HOME INVASION' 'PROSTITUTION, PATRONIZING 2, 1'\n",
      " 'OBSCENITY, MATERIAL 3' 'PROSTITUTION 1, UNDER 11'\n",
      " 'ABSCONDING FROM WORK RELEASE 2' 'PUBLIC HEALTH LAW,UNCLASSIFIED'\n",
      " 'LARCENY,GRAND BY FALSE PROMISE-IN PERSON CONTACT'\n",
      " 'LARCENY,GRAND BY OPEN/COMPROMISE CELL PHONE ACCT'\n",
      " 'UNDER THE INFLUENCE OF DRUGS' 'UNFINSH FRAME 2' 'HEALTH CODE,VIOLATION'\n",
      " 'DRUG, INJECTION OF' 'RADIO DEVICES,UNLAWFUL POSSESS'\n",
      " 'MARRIAGE,OFFENSES AGAINST,UNCL' 'PARK R&R,GAMBLING'\n",
      " 'LOITERING FOR PROSTITUTION OR' 'POSSESSION ANTI-SECURITY ITEM' 'BIGAMY'\n",
      " 'WEAPONS,PROHIBITED USE' 'LARCENY,GRAND FROM PARKING MET' 'DOG STEALING'\n",
      " 'SOLICITATION 3,2,1, CRIMINAL' 'PLACE FALSE BOMB'\n",
      " 'WEAPONS,PROHIBITED USE IMITATI' 'STRANGULATION 1ST' 'CRIMINAL MIS 2 & 3'\n",
      " 'CRIM POS WEAP 4' 'EDUCATION LAW,UNCLASSIFIED' 'FORTUNE TELLING'\n",
      " 'EDUCATION LAW' 'NAVIGATION LAW' 'LARCENY,PETIT OF TRUCK'\n",
      " 'CHILD,LICENSED PREMISES' 'PUBLIC HEALTH LAW,GLUE,UNLAWFU'\n",
      " 'USE CHILD TO COMMIT CONT SUB OFF'\n",
      " 'LARCENY,GRAND FROM RETAIL STORE, UNATTENDED'\n",
      " 'LARCENY,GRAND FROM PERSON,LUSH WORKER(SLEEPING/UNCON VICTIM)'\n",
      " 'TERRORISM PROVIDE SUPPORT' 'USURY,CRIMINAL'\n",
      " 'POSS METH MANUFACT MATERIAL' 'DISSEMINATING A FALSE SEX OFFEND'\n",
      " 'AIR POLLUTION-MOTOR VEH (ADM C' 'SODOMY,CONSENSUAL' 'SEX CRIMES'\n",
      " 'LARCENY,GRAND FROM PERSON,PERSONAL ELECTRONIC DEVICE(SNATCH)'\n",
      " 'LARCENY,GRAND FROM EATERY, UNATTENDED'\n",
      " 'LARCENY,GRAND BY CREDIT CARD ACCT COMPROMISE-EXISTING ACCT'\n",
      " 'LARCENY,GRAND FROM PERSON, BAG OPEN/DIP'\n",
      " 'LARCENY,GRAND BY ACQUIRING LOST CREDIT CARD'\n",
      " 'LARCENY,GRAND BY BANK ACCT COMPROMISE-ATM TRANSACTION'\n",
      " 'GENERAL BUSINESS LAW / UNCLASSIFIED'\n",
      " 'LARCENY,GRAND BY BANK ACCT COMPROMISE-UNCLASSIFIED'\n",
      " 'LARCENY,GRAND BY FALSE PROMISE-NOT IN PERSON CONTACT'\n",
      " 'LARCENY,GRAND BY BANK ACCT COMPROMISE-TELLER'\n",
      " 'LARCENY,GRAND FROM NIGHT CLUB, UNATTENDED'\n",
      " 'LARCENY,GRAND BY CREDIT CARD COMPROMISE-UNAUTHORIZE PURCHASE'\n",
      " 'PUBLIC HEALTH LAW,GLUE,INHALAT' 'LURING A CHILD'\n",
      " 'ASSAULT SCHOOL SAFETY AGENT' 'INCOMPETENT PERSON,KNOWINGLY ENDANGERING'\n",
      " 'EDUCATION LAW, TRUANCY' 'INCEST 3' 'SALE SCHOOL GROUNDS'\n",
      " 'NEGLECT/POISON ANIMAL' 'ABANDON ANIMAL' 'TORTURE/INJURE ANIMAL CRUELTY'\n",
      " 'CAUSE SPI/KILL ANIMAL' 'ROBBERY,CLOTHING' 'LABOR TRAFFICKING'\n",
      " 'ENVIRONMENTAL CONTROL BOARD' 'PETIT LARCENY OF ANIMAL'\n",
      " 'BREED/TRAIN/HOST ANIMAL FIGHTING' 'CONFINING ANIMAL IN VEHICLE/SHELTER'\n",
      " 'AIRPOLLUTION' 'INAPPROPIATE SHELTER DOG LEFT'\n",
      " 'ATTEND/SPECTATOR ANIMAL FIGHTING' 'ABORTION 1' 'ROBBERY,DELIVERY PERSON'\n",
      " 'UNLAWFUL SALE SYNTHETIC MARIJUANA' 'FAC. SEXUAL OFFENSE W/CONTROLL'\n",
      " 'HIND PROSEC. TERR 2' 'FIREWORKS PREV CONV 5 YEARS'\n",
      " 'ASSAULT OTHER PUBLIC SERVICE EMPLOYEE'\n",
      " 'POSSESS PARAPHERNALIA/ANIMAL FIGHTING' 'FIREARMS LICENSING LAWS'\n",
      " 'ASSAULT TRAFFIC AGENT' 'UNLAWFUL DISCLOSURE OF AN INTIMATE IMAGE'\n",
      " 'WEAPONS DISPOSITION OF'\n",
      " 'LARCENY,GRAND FROM RESIDENCE/BUILDING,UNATTENDED, PACKAGE THEFT INSIDE'\n",
      " 'LARCENY,PETIT FROM BUILDING,UNATTENDED, PACKAGE THEFT OUTSIDE'\n",
      " 'LARCENY,GRAND FROM RESIDENCE/BUILDING,UNATTENDED, PACKAGE THEFT OUTSIDE'\n",
      " 'STALKING COMMIT SEX OFFENSE' 'AGGRAVATED GRAND LARCENY OF ATM'\n",
      " 'CANNABIS POSSESSION, 2&1' 'CANNABIS SALE, 3' 'CANNABIS SALE, 2&1'\n",
      " 'CANNABIS POSSESSION' 'CANNABIS POSSESSION, 3'\n",
      " 'SMOKING TRANSPORTATION FACILIT' 'EXHIBITION,OFFENSIVE'\n",
      " 'CANNABIS SALE, AGGRAVATED' 'CANNABIS SALE'\n",
      " 'LEAVING THE SCENE OF AN ACCIDENT (SPI)' 'CRIM USE BIO OR CHEM WEAPON'\n",
      " 'EDUCATION LAW,STREET TRADE' 'ABORTIONAL ARTICLES,ISSUING'\n",
      " 'ANARCHY,CRIMINAL']\n",
      "Column 'CRM_ATPT_CPTD_CD' unique values: ['COMPLETED' 'ATTEMPTED' '(null)']\n",
      "Column 'LAW_CAT_CD' unique values: ['FELONY' 'MISDEMEANOR' 'VIOLATION']\n",
      "Column 'BORO_NM' unique values: ['BROOKLYN' 'MANHATTAN' 'BRONX' 'QUEENS' '(null)' 'STATEN ISLAND']\n",
      "Column 'LOC_OF_OCCUR_DESC' unique values: ['INSIDE' 'FRONT OF' 'OPPOSITE OF' '(null)' 'REAR OF' nan 'OUTSIDE']\n",
      "Column 'PREM_TYP_DESC' unique values: ['RESIDENCE - APT. HOUSE' 'BAR/NIGHT CLUB' 'RESIDENCE - PUBLIC HOUSING'\n",
      " 'STREET' 'VARIETY STORE' 'RESIDENCE-HOUSE' 'TAXI (YELLOW LICENSED)'\n",
      " 'COMMERCIAL BUILDING' 'PUBLIC BUILDING' 'OTHER' 'BANK' 'GROCERY/BODEGA'\n",
      " 'COLLEGE/UNIVERSITY' 'PUBLIC SCHOOL' 'PARKING LOT/GARAGE (PRIVATE)'\n",
      " 'HOTEL/MOTEL' 'CHAIN STORE' 'PARK/PLAYGROUND' 'TRANSIT - NYC SUBWAY'\n",
      " 'DEPARTMENT STORE' 'OPEN AREAS (OPEN LOTS)' 'DRUG STORE'\n",
      " 'TELECOMM. STORE' 'FAST FOOD' 'TRANSIT FACILITY (OTHER)'\n",
      " 'CHECK CASHING BUSINESS' 'RESTAURANT/DINER' 'PARKING LOT/GARAGE (PUBLIC)'\n",
      " 'GYM/FITNESS FACILITY' 'BUS STOP' 'STORE UNCLASSIFIED' 'CANDY STORE'\n",
      " 'GAS STATION' 'FOOD SUPERMARKET' 'SMALL MERCHANT' 'CLOTHING/BOUTIQUE'\n",
      " 'DOCTOR/DENTIST OFFICE' 'HIGHWAY/PARKWAY' 'BEAUTY & NAIL SALON'\n",
      " 'ABANDONED BUILDING' 'SYNAGOGUE' 'HOSPITAL' 'TAXI (LIVERY LICENSED)'\n",
      " 'ATM' 'SOCIAL CLUB/POLICY' 'CHURCH' 'CONSTRUCTION SITE'\n",
      " 'STORAGE FACILITY' 'PRIVATE/PAROCHIAL SCHOOL' 'BUS (NYC TRANSIT)'\n",
      " 'FACTORY/WAREHOUSE' 'JEWELRY' 'VIDEO STORE' 'DRY CLEANER/LAUNDRY'\n",
      " 'BRIDGE' 'LIQUOR STORE' 'TUNNEL' 'MOSQUE' 'CEMETERY' 'BOOK/CARD'\n",
      " 'BUS (OTHER)' 'TRAMWAY' 'SHOE' 'LOAN COMPANY' 'OTHER HOUSE OF WORSHIP'\n",
      " 'BUS TERMINAL' 'AIRPORT TERMINAL' 'PHOTO/COPY' 'MARINA/PIER'\n",
      " 'TAXI/LIVERY (UNLICENSED)' 'FERRY/FERRY TERMINAL' '(null)'\n",
      " 'HOMELESS SHELTER' 'MULTI DWELL - APT BUILD' 'PVT HOUSE'\n",
      " 'MULTI DWELL - PUBLIC HOUS' 'COMMERCIAL BLDG' 'BEAUTY/NAIL SALON'\n",
      " 'JEWELRY STORE' 'SUPERMARKET' 'SOCIAL CLUB/POLICY LOCATI' 'REAL ESTATE'\n",
      " 'CLOTHING BOUTIQUE' 'DEPT STORE' 'MOBILE FOOD' 'MAILBOX OUTSIDE'\n",
      " 'DOCTOR/DENTIST' 'SHOE STORE' 'CHECK CASH' 'MAILBOX INSIDE'\n",
      " 'DAYCARE FACILITY' 'SMOKE SHOP' 'NONE' 'SCHOOL']\n",
      "Column 'JURIS_DESC' unique values: ['N.Y. POLICE DEPT' 'N.Y. HOUSING POLICE' 'N.Y. TRANSIT POLICE' 'OTHER'\n",
      " 'N.Y. STATE PARKS' 'POLICE DEPT NYC' 'U.S. PARK POLICE'\n",
      " 'HEALTH & HOSP CORP' 'TRI-BORO BRDG TUNNL' 'PORT AUTHORITY'\n",
      " 'N.Y. STATE POLICE' 'METRO NORTH' 'NYS DEPT TAX AND FINANCE'\n",
      " 'LONG ISLAND RAILRD' 'NEW YORK CITY SHERIFF OFFICE' 'CONRAIL' 'AMTRACK'\n",
      " 'STATN IS RAPID TRANS' 'DEPT OF CORRECTIONS' 'NYC PARKS'\n",
      " 'N.Y.C. DEPT OF PROBATION' 'DISTRICT ATTORNEY OFFICE' 'MTA POLICE DEPT'\n",
      " 'N.Y.C. DEPT OF HOMELESS SERVICES' 'FIRE DEPT (FIRE MARSHAL)'\n",
      " 'NYC DEPT ENVIRONMENTAL PROTECTION' 'SEA GATE POLICE DEPT'\n",
      " 'NYS DEPT ENVIRONMENTAL CONSERVATION']\n",
      "Column 'JURISDICTION_CODE' unique values: [ 0  2  1 97 12 69 13 14  4  3 11 15 85  6 87  8  7  9 72 88 52 73 17 51\n",
      " 71 76 16 79]\n",
      "Column 'PARKS_NM' unique values: ['(null)' 'FLUSHING MEADOWS CORONA PARK' 'HOFFMAN PARK' ...\n",
      " 'SOUTHERN FIELDS' 'GARDEN AT BEACH 36TH STREET' 'PEACE PARK']\n",
      "Column 'HADEVELOPT' unique values: ['(null)' 'RIIS' 'WHITMAN' 'MARKHAM GARDENS' 'WOODSIDE' 'SHEEPSHEAD BAY'\n",
      " 'WILLIAMSBURG' 'MARBLE HILL' 'GLENWOOD' 'NOSTRAND' 'INGERSOLL' 'GRANT'\n",
      " 'MANHATTANVILLE' 'FIRST HOUSES' 'ARMSTRONG I' 'RIIS II' 'BREUKELEN'\n",
      " 'WEST BRIGHTON I' 'WEST BRIGHTON II' 'RED HOOK EAST' 'RED HOOK WEST'\n",
      " 'SMITH' 'WALD' 'MARLBORO' 'LOWER EAST SIDE REHAB (GROUP 5)'\n",
      " 'CAMPOS PLAZA I' 'LOWER EAST SIDE II' 'HAMMEL'\n",
      " 'BUSHWICK II (GROUPS A & C)' 'BLAND' 'BORINQUEN PLAZA I'\n",
      " 'UNITY PLAZA (SITES 4-27)' 'VLADECK' 'EDENWALD'\n",
      " 'TWO BRIDGES URA (SITE 7)' 'AMSTERDAM'\n",
      " 'BEACH 41ST STREET-BEACH CHANNEL DRIVE' 'FARRAGUT']\n",
      "Column 'HOUSING_PSA' unique values: ['(null)' '3360' '794' ... '54043' '54943' '55643']\n",
      "Column 'X_COORD_CD' unique values: [ 991818.  997152. 1004579. ... 1001542.  996050.  996946.]\n",
      "Column 'Y_COORD_CD' unique values: [191560. 220300. 183837. ... 153071. 150451. 154282.]\n",
      "Column 'SUSP_AGE_GROUP' unique values: ['(null)' '<18' '25-44' '18-24' '45-64' 'UNKNOWN' '65+' '930' '925' '932'\n",
      " '945' '2009' '936' '931' '917' '937' '921' '949' '939' '941' '914' '940'\n",
      " '1009' '933' '2010' '928' '999' '924' '2011' '1052' '929' '938' '934'\n",
      " '935' '980' '952' '2012' '1011' '900' '946' '912' '951' '1012' '2013'\n",
      " '966' '944' '965' '1014' '1032' '2014' '902' '959' '1046' '1013' '352'\n",
      " '1004' '2015' '955' '-948' '-2' '920' '-49' '2016' '-54' '1932' '-965'\n",
      " '1016' '-969' '-975' '327' '-974' '926' '-955' '-83' '-979' '-67' '923'\n",
      " '1017' '2017' '942' '-960' '-72' '-981' '1053' '-968' '927' '-953' '1933'\n",
      " '-42' '-972' '-971' '1018' '2018' '-63' '-978' '948' '1967' '-80' '-939'\n",
      " '922' '-941' '954' '-964' '-973' '2019' '947' '1019' '-64' '-966' '-1'\n",
      " '2020' '-977' '-962' '-71' '-12' '-942' '1020' '1925' '1056' '2021'\n",
      " '-946' '953' '-69' '-947' '-60' '-33' '1822' '2022' '-65' '-6' '-66'\n",
      " '956' '-10' '-5962' '-3' '-74' '-76' '-47' '-961' '-951' '-55' '2023'\n",
      " '-62' '-956' '1022' '1023' '-963' '967' '964' '-976' '-5' '-928' '525'\n",
      " '231' '216' '171' '522' '205' '245' '455' '222' '175' '533' '546' '1919'\n",
      " '1956' '3334' '3131' '813' '1975' '185' '425' '375' '505' '537' '495'\n",
      " '3636' '521' '165' '170' '545' '535' '530' '155' '1981' '324' '3434'\n",
      " '536' '325' '180' '334' '395' '295' '346' '582' '189' '486' '528' '285'\n",
      " '529' '2121' '308' '385' '225' '246' '265' '235' '4142' '376' '456' '625'\n",
      " '255' '335' '808' '711' '196' '485' '810' '517' '3435' '445' '548' '405'\n",
      " '2927' '655' '305' '160' '540' '315' '2223' '354' '2525' '915' '565'\n",
      " '626' '355' '635' '518' '275' '3535' '164' '1818' '292' '2828' '532'\n",
      " '555' '435' '1616' '454' '2530' '32032' '190' '4646' '4040' '1515' '296'\n",
      " '2424' '3030' '3735' '1976' '534' '639' '416' '538' '229' '215' '708'\n",
      " '228' '5049' '1953' '2727' '1007' '256' '623' '972']\n",
      "Column 'SUSP_RACE' unique values: ['UNKNOWN' '(null)' 'BLACK' 'WHITE HISPANIC' 'BLACK HISPANIC' 'WHITE'\n",
      " 'ASIAN / PACIFIC ISLANDER' 'AMERICAN INDIAN/ALASKAN NATIVE' 'OTHER']\n",
      "Column 'SUSP_SEX' unique values: ['(null)' 'M' 'F' 'U']\n",
      "Column 'TRANSIT_DISTRICT' unique values: [nan 34.  4. 33. 11. 32. 12.  3. 20.  1. 30. 23.  2.]\n",
      "Column 'Latitude' unique values: [40.692464   40.771341   40.671245   ... 40.590136   40.637268\n",
      " 40.59044692]\n",
      "Column 'Longitude' unique values: [-73.972708   -73.953418   -73.926713   ... -73.954285   -73.919151\n",
      " -73.92964193]\n",
      "Column 'Lat_Lon' unique values: ['(40.692464, -73.972708)' '(40.771341, -73.953418)'\n",
      " '(40.671245, -73.926713)' ... '(40.590136, -73.954285)'\n",
      " '(40.637268, -73.919151)' '(40.59044692, -73.92964193)']\n",
      "Column 'PATROL_BORO' unique values: ['PATROL BORO BKLYN NORTH' 'PATROL BORO MAN NORTH'\n",
      " 'PATROL BORO BKLYN SOUTH' 'PATROL BORO BRONX' 'PATROL BORO MAN SOUTH'\n",
      " 'PATROL BORO QUEENS NORTH' 'PATROL BORO QUEENS SOUTH'\n",
      " 'PATROL BORO STATEN ISLAND' '(null)']\n",
      "Column 'STATION_NAME' unique values: ['(null)' 'AVENUE \"N\"' 'KINGS HIGHWAY' '51 STREET' 'BROADWAY-EASTERN PKWY'\n",
      " 'HALSEY STREET' '138 ST.-GRAND CONCOURSE' 'KINGSTON AVENUE'\n",
      " 'JACKSON AVENUE' '96 STREET' 'NOSTRAND AVENUE' '46 STREET'\n",
      " '3 AVENUE-149 STREET' '167 STREET' '110 ST.-CENTRAL PARK NORTH'\n",
      " '170 STREET' 'LEXINGTON AVENUE' '125 STREET' '145 STREET'\n",
      " '149 ST.-GRAND CONCOURSE' '191 STREET' '5 AVENUE'\n",
      " 'BROADWAY-EAST NEW YORK' 'ASTORIA BLVD.' 'MT. EDEN AVENUE' '116 STREET'\n",
      " '176 STREET' '103 STREET' 'ROCKAWAY AVENUE' 'HUNTERS POINT AVENUE'\n",
      " '175 STREET' 'LEXINGTON AVE.' '59 STREET' 'OCEAN PKWY'\n",
      " '200 ST.-DYCKMAN ST.' '135 STREET' '23 STREET-ELY AVENUE'\n",
      " '110 ST.-CATHEDRAL PKWY.' 'GATES AVENUE' 'LORIMER STREET' 'UTICA AVENUE'\n",
      " 'MYRTLE/WYCKOFF AVENUES' 'CHAUNCEY STREET' '163 ST.-AMSTERDAM AVE.'\n",
      " 'CLINTON-WASHINGTON AVENUES' 'FLATBUSH AVE.-BROOKLYN COLLEGE'\n",
      " 'WYCKOFF AVENUE' '207 STREET' 'STEINWAY ST.' '207 ST.-INWOOD'\n",
      " 'SUTTER AVENUE-RUTLAND ROAD' '168 ST.-WASHINGTON HTS.' 'BEVERLY ROAD'\n",
      " 'NEWKIRK AVENUE' 'JEFFERSON STREET' '181 STREET' '86 STREET'\n",
      " 'BEDFORD-NOSTRAND AVENUES' 'RALPH AVENUE' '30 AVENUE' 'CHURCH AVENUE'\n",
      " 'DITMARS BLVD.-ASTORIA' 'MONTROSE AVENUE' '21 STREET' '157 STREET'\n",
      " '183 STREET' 'KNICKERBOCKER AVENUE' 'BURNSIDE AVENUE' 'ATLANTIC AVENUE'\n",
      " '110 STREET' '68 ST.-HUNTER COLLEGE' 'PARKSIDE AVENUE' '148 ST.-HARLEM'\n",
      " 'TREMONT AVENUE' 'BRIGHTON BEACH' 'WILSON AVENUE' '231 STREET'\n",
      " 'DEKALB AVENUE' 'NORTHERN BLVD.' '90 ST.-ELMHURST AVE.'\n",
      " '116 ST.-COLUMBIA UNIVERSITY' 'BEVERLEY ROAD' 'AVENUE \"J\"' '190 STREET'\n",
      " 'AVENUE \"H\"' \"EAST 143 ST.-ST. MARY'S STREET\" 'PROSPECT PARK'\n",
      " 'EASTERN PKWY-BROOKLYN MUSEUM' 'MYRTLE AVENUE' '155 STREET'\n",
      " 'EAST 149 STREET' 'CORTELYOU ROAD' 'COURT SQUARE' '77 STREET'\n",
      " 'GRAHAM AVENUE' 'QUEENS PLAZA' 'DISTRICT 33 OFFICE' '33 STREET'\n",
      " 'LIVONIA AVENUE' 'JUNIUS STREET' 'FORDHAM ROAD' 'SUTTER AVENUE'\n",
      " 'FRANKLIN AVENUE' 'ROCKAWAY PKWY-CANARSIE' 'BEDFORD AVENUE'\n",
      " 'BOTANIC GARDEN' 'NEW LOTS AVENUE' 'MARCY AVENUE' 'SARATOGA AVENUE'\n",
      " 'MORGAN AVENUE' 'ALABAMA AVENUE' '61 ST.-WOODSIDE' 'PROSPECT AVENUE'\n",
      " 'INTERVALE AVENUE' 'KINGSTON-THROOP AVENUES' 'UTICA AVE.-CROWN HEIGHTS'\n",
      " 'FLUSHING AVENUE' '174-175 STREETS' '182-183 STREETS' '215 STREET'\n",
      " 'GRAND STREET' 'EAST TREMONT AVE.-WEST FARMS S' '21 ST.-QUEENSBRIDGE'\n",
      " 'AVENUE \"M\"' 'CLASSON AVENUE' 'KOSCIUSKO STREET' '52 STREET'\n",
      " 'SIMPSON STREET' 'LIBERTY AVENUE' 'QUEENSBORO PLAZA' '36 STREET'\n",
      " 'PENNSYLVANIA AVENUE' 'NECK ROAD' 'AVENUE \"U\"' '40 STREET'\n",
      " 'EAST 105 STREET' '161 ST.-YANKEE STADIUM' '45 ROAD-COURT HOUSE SQUARE'\n",
      " 'CENTRAL AVENUE' 'KINGSBRIDGE ROAD' 'VERNON BLVD.-JACKSON AVE.'\n",
      " 'LONGWOOD AVENUE' 'PARK PLACE' '3 AVENUE-138 STREET' '65 STREET'\n",
      " '39 AVENUE' 'ROOSEVELT AVE.-JACKSON HEIGHTS' 'VAN SICLEN AVENUE'\n",
      " 'EAST 174 STREET' '137 ST.-CITY COLLEGE' 'BUSHWICK AVE.-ABERDEEN ST.'\n",
      " '74 ST.-BROADWAY' 'FREEMAN STREET' 'CYPRESS AVENUE' 'WHITLOCK AVENUE'\n",
      " 'HUNTS POINT AVENUE' 'CLEVELAND STREET' 'SHEEPSHEAD BAY' 'SENECA AVENUE'\n",
      " 'BEDFORD PK. BLVD.-LEHMAN COLLE' 'ELMHURST AVE.' 'BROADWAY'\n",
      " '225 ST.-MARBLE HILL' 'STERLING STREET' 'BROOK AVENUE' 'NORWOOD AVENUE'\n",
      " 'SHEPHERD AVENUE' 'WINTHROP STREET' 'HEWES STREET' '36 AVENUE' 'WOODLAWN'\n",
      " 'MOSHOLU PKWY.' 'ELDER AVENUE' '238 STREET' 'NASSAU AVENUE'\n",
      " 'METROPOLITAN AVENUE' '205 ST.-NORWOOD' '82 ST.-JACKSON HEIGHTS'\n",
      " 'EUCLID AVENUE' '242 ST.-VAN CORTLANDT PARK' 'EAST 180 STREET'\n",
      " 'EAST 177 ST.-PARKCHESTER' 'CRESCENT STREET' 'MYRTLE-WILLOUGHBY AVENUES'\n",
      " 'JUNCTION BLVD.' 'SOUNDVIEW AVENUE' 'WOODHAVEN BLVD.' 'GRAND AVE.-NEWTON'\n",
      " 'WILLETS POINT-SHEA STADIUM' '238 ST.-NEREID AVE.' 'ALLERTON AVENUE'\n",
      " 'CYPRESS HILLS' '75 ST.-ELDERTS LANE' 'GRANT AVENUE'\n",
      " 'ST. LAWRENCE AVENUE' 'GUN HILL ROAD' '233 STREET' 'BURKE AVENUE'\n",
      " '219 STREET' '103 ST.-CORONA PLAZA' '225 STREET'\n",
      " 'UNION TURNPIKE-KEW GARDENS' 'BRONX PARK EAST' '67 AVENUE'\n",
      " '241 ST.-WAKEFIELD' 'BEDFORD PK. BLVD.' 'PELHAM PKWY.'\n",
      " '71 AVE.-FOREST HILLS' '102 STREET' '63 DRIVE-REGO PARK' '111 STREET'\n",
      " 'ROOSEVELT ISLAND' 'ZEREGA AVENUE' 'BAYCHESTER AVENUE' '80 STREET'\n",
      " 'HOWARD BEACH-JFK AIRPORT' 'MAIN ST.-FLUSHING' 'MIDDLETOWN ROAD'\n",
      " 'PELHAM BAY PARK' 'ROCKAWAY PARK-BEACH 116 ST.' 'FOREST AVENUE'\n",
      " 'BUHRE AVENUE' '121 STREET' 'EAST TREMONT AV.-WESTCHESTER S'\n",
      " 'JAMAICA-VAN WYCK' 'ROCKAWAY BLVD.' 'PARSONS/ARCHER-JAMAICA CENTER'\n",
      " 'SUTPHIN BLVD.-ARCHER AVE.' 'VAN WYCK BLVD.-BRIARWOOD' 'BROAD CHANNEL'\n",
      " 'PARSONS BLVD.' 'SUTPHIN BLVD.' 'BEACH 67 STREET' '169 STREET'\n",
      " 'BEACH 60 STREET' 'FRESH POND ROAD' 'CASTLE HILL AVENUE'\n",
      " '85 ST.-FOREST PKWY.' '179 ST.-JAMAICA' 'MORRIS PARK' 'BEACH 36 STREET'\n",
      " 'FAR ROCKAWAY-MOTT AVE.' 'BEACH 44 STREET' 'BEACH 25 STREET' '69 STREET'\n",
      " '75 AVENUE' 'DYRE AVE.-EASTCHESTER' 'LEFFERTS BLVD.' 'DISTRICT 11 OFFICE'\n",
      " '104 STREET' 'BEACH 98 STREET' 'DISTRICT 12 OFFICE'\n",
      " 'AQUEDUCT-NORTH CONDUIT AVE.' 'BEACH 90 STREET' '88 STREET'\n",
      " 'BEACH 105 STREET' 'DISTRICT 20 OFFICE' '14 ST.-UNION SQUARE'\n",
      " 'FULTON STREET' 'BROOKLYN BRIDGE-CITY HALL'\n",
      " 'CHAMBERS ST.-WORLD TRADE CENTE' 'BOWLING GREEN' 'SOUTH FERRY'\n",
      " 'SPRING STREET' 'RECTOR STREET' 'WALL STREET' '45 STREET'\n",
      " 'CHAMBERS STREET' '53 STREET' 'BROAD STREET' 'WHITEHALL ST.-SOUTH FERRY'\n",
      " 'CITY HALL' 'BROADWAY/NASSAU' '95 STREET-BAY RIDGE' 'CANAL STREET'\n",
      " 'BAY RIDGE AVENUE' '8 AVENUE' 'W. 4 STREET' '14 STREET'\n",
      " 'BROADWAY/LAFAYETTE' 'SMITH-9 STREETS' '23 STREET' '18 STREET'\n",
      " 'CHRISTOPHER ST.-SHERIDAN SQ.' '62 STREET' 'FRANKLIN STREET'\n",
      " 'HOUSTON STREET' '6 AVENUE' '79 STREET' 'NEW UTRECHT AVENUE'\n",
      " 'FORT HAMILTON PKWY' 'CARROLL STREET' '20 AVENUE' '18 AVENUE' '25 STREET'\n",
      " '42 ST.-GRAND CENTRAL' 'BERGEN STREET' '34 ST.-PENN STATION' '9 AVENUE'\n",
      " '42 ST.-TIMES SQUARE' 'EAST BROADWAY' 'UNION SQUARE' '34 ST.-HERALD SQ.'\n",
      " '42 ST.-PORT AUTHORITY BUS TERM' '71 STREET' 'ASTOR PLACE'\n",
      " 'PRINCE STREET' '28 STREET' 'BOWERY' '8 ST.-NYU' 'CLARK STREET'\n",
      " 'BAY PARKWAY' '55 STREET' '34 STREET' '2 AVENUE' 'HOYT-SCHERMERHORN'\n",
      " 'JAY STREET-BOROUGH HALL' '4 AVENUE-9 STREET' 'ESSEX STREET'\n",
      " 'HIGH STREET' '9TH STREET' '59 ST.-COLUMBUS CIRCLE' '50 STREET'\n",
      " 'DELANCEY STREET' 'HOYT STREET' 'BLEECKER STREET' 'DISTRICT 4 OFFICE'\n",
      " '25 AVENUE' '47-50 STS./ROCKEFELLER CTR.' '49 STREET' 'LAWRENCE STREET'\n",
      " '42 STREET' 'BAY 50 STREET' 'DITMAS AVENUE' 'PACIFIC STREET'\n",
      " 'NEVINS STREET' '57 STREET' '72 STREET' 'STILLWELL AVENUE-CONEY ISLAND'\n",
      " '66 ST.-LINCOLN CENTER' 'YORK STREET' '1 AVENUE' 'BOROUGH HALL'\n",
      " '3 AVENUE' 'UNION STREET' '15 ST.-PROSPECT PARK' 'COURT STREET'\n",
      " '7 AVENUE' 'GRAND ARMY PLAZA' 'WEST 8 STREET-NY AQUARIUM' 'AVENUE \"I\"'\n",
      " 'LAFAYETTE AVENUE' 'AVENUE \"X\"' '7TH AVENUE' 'NEPTUNE AVENUE'\n",
      " 'AVENUE \"P\"' '81 ST.-MUSEUM OF NATURAL HISTO' 'DISTRICT 30 OFFICE'\n",
      " 'DISTRICT 1 OFFICE' 'PRESIDENT STREET' 'DISTRICT 3 OFFICE'\n",
      " 'GREENPOINT AVENUE' 'OFF-SYSTEM' 'AQUEDUCT-RACETRACK' 'CORTLANDT STREET'\n",
      " 'DISTRICT 2 OFFICE' 'DISTRICT 32 OFFICE' 'DISTRICT 23 OFFICE'\n",
      " 'DISTRICT 34 OFFICE' 'WEST 34 STREET/HUDSON YARDS' '96TH STREET'\n",
      " '72ND STREET' '86TH STREET']\n",
      "Column 'VIC_AGE_GROUP' unique values: ['25-44' '45-64' '(null)' '18-24' '<18' 'UNKNOWN' '65+' '946' '933' '960'\n",
      " '942' '955' '931' '926' '937' '922' '961' '938' '947' '956' '916' '912'\n",
      " '928' '957' '929' '935' '913' '951' '934' '948' '921' '925' '941' '981'\n",
      " '944' '939' '959' '940' '930' '954' '952' '999' '943' '964' '915' '971'\n",
      " '924' '945' '932' '970' '936' '927' '949' '923' '967' '953' '920' '911'\n",
      " '950' '966' '958' '1011' '1001' '962' '983' '917' '963' '984' '1014'\n",
      " '965' '-948' '-939' '-884' '-39' '-902' '-48' '-7' '-971' '1013' '-37'\n",
      " '-975' '-63' '-970' '-72' '-981' '-945' '-32' '-52' '-45' '-973' '-40'\n",
      " '-972' '-70' '-2' '-61' '977' '-1' '-49' '-931' '-65' '-60' '-55' '-978'\n",
      " '-966' '-959' '-936' '-73' '-938' '-934' '1012' '-937' '-980' '-962'\n",
      " '-36' '-81' '-53' '-3' '-964' '-950' '-955' '-940' '-942' '-956' '-67'\n",
      " '-76' '-59' '-974' '-43' '-51' '-968' '972' '-5' '-943' '-952' '1017'\n",
      " '-4' '-958' '-71' '-56' '-954' '-961' '-967' '-69' '1018' '-50' '-946'\n",
      " '-31' '1016' '-965' '-963' '-935' '-960' '-62' '-921' '-27' '-6' '-57'\n",
      " '-11' '-30' '1022' '1023' '-58' '-929' '-46' '-64' '1020' '-953' '-932'\n",
      " '-10' '-33' '342' '741' '807' '469' '318' '159' '4219' '208' '808' '3642'\n",
      " '1068' '507' '260' '895' '809' '919' '791' '11230' '158' '323' '1553'\n",
      " '345' '173' '188' '11210' '838' '308' '623' '334' '980' '458' '708' '422'\n",
      " '454' '908' '900' '806' '858' '707' '969' '1900' '250' '172' '910' '1320'\n",
      " '160' '152' '2006' '390' '151' '509' '886' '551' '340' '500' '184' '909'\n",
      " '982' '811' '526' '901' '10622' '711' '1957' '508' '2044' '427' '688'\n",
      " '2211' '174' '914' '153' '1921' '918' '315' '297' '321' '1115' '395'\n",
      " '2125' '310' '562' '520' '650' '213' '1480' '1353' '812' '359' '978'\n",
      " '1972' '1951' '737' '407' '758' '2007' '10308' '1445' '1642' '595' '1590'\n",
      " '331' '3019' '10451' '1221' '200' '1955' '309' '979' '1230' '710' '1963'\n",
      " '420' '1003']\n",
      "Column 'VIC_RACE' unique values: ['WHITE' 'WHITE HISPANIC' 'BLACK' 'UNKNOWN' 'ASIAN / PACIFIC ISLANDER'\n",
      " 'BLACK HISPANIC' 'AMERICAN INDIAN/ALASKAN NATIVE' '(null)' 'OTHER']\n",
      "Column 'VIC_SEX' unique values: ['F' 'M' 'E' 'D' '(null)' 'L' 'U']\n"
     ]
    }
   ],
   "execution_count": 9
  },
  {
   "metadata": {},
   "cell_type": "markdown",
   "source": "Prints unique values for each column",
   "id": "19151425c9260a18"
  },
  {
   "metadata": {
    "ExecuteTime": {
     "end_time": "2024-06-11T10:20:13.840070Z",
     "start_time": "2024-06-11T10:20:05.075013Z"
    }
   },
   "cell_type": "code",
   "source": [
    "print(\"Percentage of missing values for each column:\")\n",
    "missing_percentage = (df.isna().sum() / df.shape[0] * 100).sort_values(ascending=False)\n",
    "print(missing_percentage, \"\\n\")"
   ],
   "id": "64a7c9205153bad0",
   "outputs": [
    {
     "name": "stdout",
     "output_type": "stream",
     "text": [
      "Percentage of missing values for each column:\n",
      "TRANSIT_DISTRICT     97.778479\n",
      "CMPLNT_TO_DT         20.403713\n",
      "PD_CD                 0.085173\n",
      "ADDR_PCT_CD           0.008649\n",
      "CMPLNT_FR_DT          0.007347\n",
      "Longitude             0.005227\n",
      "Y_COORD_CD            0.005227\n",
      "Latitude              0.005227\n",
      "X_COORD_CD            0.005227\n",
      "Lat_Lon               0.005227\n",
      "LOC_OF_OCCUR_DESC     0.002625\n",
      "HOUSING_PSA           0.000000\n",
      "PATROL_BORO           0.000000\n",
      "STATION_NAME          0.000000\n",
      "SUSP_SEX              0.000000\n",
      "SUSP_RACE             0.000000\n",
      "SUSP_AGE_GROUP        0.000000\n",
      "VIC_AGE_GROUP         0.000000\n",
      "VIC_RACE              0.000000\n",
      "CMPLNT_NUM            0.000000\n",
      "JURISDICTION_CODE     0.000000\n",
      "HADEVELOPT            0.000000\n",
      "PARKS_NM              0.000000\n",
      "JURIS_DESC            0.000000\n",
      "PREM_TYP_DESC         0.000000\n",
      "BORO_NM               0.000000\n",
      "LAW_CAT_CD            0.000000\n",
      "CRM_ATPT_CPTD_CD      0.000000\n",
      "PD_DESC               0.000000\n",
      "OFNS_DESC             0.000000\n",
      "KY_CD                 0.000000\n",
      "RPT_DT                0.000000\n",
      "CMPLNT_TO_TM          0.000000\n",
      "CMPLNT_FR_TM          0.000000\n",
      "VIC_SEX               0.000000\n",
      "dtype: float64 \n",
      "\n"
     ]
    }
   ],
   "execution_count": 10
  },
  {
   "metadata": {},
   "cell_type": "markdown",
   "source": "Prints the percentage of missing values for each column",
   "id": "3cf3862a5a022a9e"
  },
  {
   "metadata": {},
   "cell_type": "markdown",
   "source": "## 3. Cleaning Dataset:",
   "id": "b4c3066331162ba9"
  },
  {
   "metadata": {
    "ExecuteTime": {
     "end_time": "2024-06-11T10:20:19.002638Z",
     "start_time": "2024-06-11T10:20:13.842067Z"
    }
   },
   "cell_type": "code",
   "source": [
    "df.drop([\"CRM_ATPT_CPTD_CD\", \"HADEVELOPT\", \"JURISDICTION_CODE\", \"JURIS_DESC\", \"KY_CD\", \"PARKS_NM\",\n",
    "         \"PD_DESC\", \"RPT_DT\", \"X_COORD_CD\", \"Y_COORD_CD\", \"TRANSIT_DISTRICT\"], axis=\"columns\", inplace=True)"
   ],
   "id": "bce5fc0e00f95b42",
   "outputs": [],
   "execution_count": 11
  },
  {
   "metadata": {},
   "cell_type": "markdown",
   "source": "Drops specified columns that are unnecessary or contain redundant information",
   "id": "6c63f6562c878941"
  },
  {
   "metadata": {
    "ExecuteTime": {
     "end_time": "2024-06-11T10:20:20.819923Z",
     "start_time": "2024-06-11T10:20:19.005092Z"
    }
   },
   "cell_type": "code",
   "source": "df['CMPLNT_NUM'] = df['CMPLNT_NUM'].astype(str).str.strip()",
   "id": "33d800d696df33ea",
   "outputs": [],
   "execution_count": 12
  },
  {
   "metadata": {},
   "cell_type": "markdown",
   "source": "Converts the 'CMPLNT_NUM' column to a string and strip any leading or trailing whitespace",
   "id": "1a758aa231564f5c"
  },
  {
   "metadata": {
    "ExecuteTime": {
     "end_time": "2024-06-11T10:20:22.345962Z",
     "start_time": "2024-06-11T10:20:20.820874Z"
    }
   },
   "cell_type": "code",
   "source": [
    "df[\"CMPLNT_FR_DT\"] = pd.to_datetime(df[\"CMPLNT_FR_DT\"], format=\"%m/%d/%Y\", errors=\"coerce\")\n",
    "df[\"CMPLNT_TO_DT\"] = pd.to_datetime(df[\"CMPLNT_TO_DT\"], format=\"%m/%d/%Y\", errors=\"coerce\")"
   ],
   "id": "f0a7cfbca7173435",
   "outputs": [],
   "execution_count": 13
  },
  {
   "metadata": {},
   "cell_type": "markdown",
   "source": "Converts complaint date columns to datetime objects",
   "id": "1a5e7bbc1ff50f68"
  },
  {
   "metadata": {
    "ExecuteTime": {
     "end_time": "2024-06-11T10:20:23.995726Z",
     "start_time": "2024-06-11T10:20:22.346839Z"
    }
   },
   "cell_type": "code",
   "source": [
    "df[\"CMPLNT_FR_TM\"] = pd.to_datetime(df[\"CMPLNT_FR_TM\"], errors=\"coerce\")\n",
    "df[\"CMPLNT_TO_TM\"] = pd.to_datetime(df[\"CMPLNT_TO_TM\"], errors=\"coerce\")"
   ],
   "id": "6765d2f9b920a743",
   "outputs": [
    {
     "name": "stderr",
     "output_type": "stream",
     "text": [
      "/var/folders/xk/_55wh_553_53h3nkb0_2byvw0000gn/T/ipykernel_29276/495979590.py:1: UserWarning: Could not infer format, so each element will be parsed individually, falling back to `dateutil`. To ensure parsing is consistent and as-expected, please specify a format.\n",
      "  df[\"CMPLNT_FR_TM\"] = pd.to_datetime(df[\"CMPLNT_FR_TM\"], errors=\"coerce\")\n",
      "/var/folders/xk/_55wh_553_53h3nkb0_2byvw0000gn/T/ipykernel_29276/495979590.py:2: UserWarning: Could not infer format, so each element will be parsed individually, falling back to `dateutil`. To ensure parsing is consistent and as-expected, please specify a format.\n",
      "  df[\"CMPLNT_TO_TM\"] = pd.to_datetime(df[\"CMPLNT_TO_TM\"], errors=\"coerce\")\n"
     ]
    }
   ],
   "execution_count": 14
  },
  {
   "metadata": {},
   "cell_type": "markdown",
   "source": "Converts complaint time columns to time objects in 'HH:MM:SS' format",
   "id": "de4c88a3be1bd498"
  },
  {
   "metadata": {
    "ExecuteTime": {
     "end_time": "2024-06-11T10:20:27.896375Z",
     "start_time": "2024-06-11T10:20:23.996847Z"
    }
   },
   "cell_type": "code",
   "source": [
    "df['ADDR_PCT_CD'] = pd.to_numeric(df['ADDR_PCT_CD'], errors='coerce').fillna(-1).astype(int)\n",
    "df['PD_CD'] = pd.to_numeric(df['PD_CD'], errors='coerce').fillna(-1).astype(int)\n",
    "df['HOUSING_PSA'] = pd.to_numeric(df['HOUSING_PSA'], errors='coerce').fillna(-1).astype(int)\n",
    "df['Latitude'] = pd.to_numeric(df['Latitude'], errors='coerce')\n",
    "df['Longitude'] = pd.to_numeric(df['Longitude'], errors='coerce')"
   ],
   "id": "f5637e8502fcee7d",
   "outputs": [],
   "execution_count": 15
  },
  {
   "metadata": {},
   "cell_type": "markdown",
   "source": "Converts numeric columns to appropriate data types, replacing invalid values with -1 for integers and NaN for floats",
   "id": "2bc9aed3df291fe1"
  },
  {
   "metadata": {
    "ExecuteTime": {
     "end_time": "2024-06-11T10:20:40.092399Z",
     "start_time": "2024-06-11T10:20:27.897898Z"
    }
   },
   "cell_type": "code",
   "source": [
    "df['BORO_NM'] = df['BORO_NM'].replace({'(null)': np.nan}).str.upper().str.strip()\n",
    "df['LOC_OF_OCCUR_DESC'] = df['LOC_OF_OCCUR_DESC'].replace({'(null)': np.nan}).str.upper().str.strip()\n",
    "df['PATROL_BORO'] = df['PATROL_BORO'].str.upper().str.strip()\n",
    "df['PREM_TYP_DESC'] = df['PREM_TYP_DESC'].str.upper().str.strip().fillna('UNKNOWN')"
   ],
   "id": "6e9a27a473a49558",
   "outputs": [],
   "execution_count": 16
  },
  {
   "metadata": {},
   "cell_type": "markdown",
   "source": "Cleans and formats various string columns by converting to uppercase, stripping whitespace, and handling null values",
   "id": "424d730c12dd2b4"
  },
  {
   "metadata": {
    "ExecuteTime": {
     "end_time": "2024-06-11T10:20:47.733808Z",
     "start_time": "2024-06-11T10:20:40.094842Z"
    }
   },
   "cell_type": "code",
   "source": [
    "valid_age_groups = ['25-44', '45-64', '18-24', '<18', 'UNKNOWN', '65+']\n",
    "df['SUSP_AGE_GROUP'] = df['SUSP_AGE_GROUP'].str.upper().str.strip()\n",
    "df['SUSP_AGE_GROUP'] = df['SUSP_AGE_GROUP'].replace('(null)', np.nan)\n",
    "df['SUSP_AGE_GROUP'] = df['SUSP_AGE_GROUP'].where(df['SUSP_AGE_GROUP'].isin(valid_age_groups), np.nan)\n",
    "df['VIC_AGE_GROUP'] = df['VIC_AGE_GROUP'].str.upper().str.strip()\n",
    "df['VIC_AGE_GROUP'] = df['VIC_AGE_GROUP'].replace('(null)', np.nan)\n",
    "df['VIC_AGE_GROUP'] = df['VIC_AGE_GROUP'].where(df['VIC_AGE_GROUP'].isin(valid_age_groups), np.nan)"
   ],
   "id": "a72b7d1a8328efeb",
   "outputs": [],
   "execution_count": 17
  },
  {
   "metadata": {
    "ExecuteTime": {
     "end_time": "2024-06-11T10:21:01.779044Z",
     "start_time": "2024-06-11T10:20:47.735907Z"
    }
   },
   "cell_type": "code",
   "source": [
    "valid_races = ['WHITE', 'WHITE HISPANIC', 'BLACK', 'UNKNOWN', 'ASIAN / PACIFIC ISLANDER', 'BLACK HISPANIC', 'AMERICAN INDIAN/ALASKAN NATIVE']\n",
    "df['SUSP_RACE'] = df['SUSP_RACE'].str.upper().str.strip()\n",
    "df['SUSP_RACE'] = df['SUSP_RACE'].replace('(null)', np.nan)\n",
    "df['SUSP_RACE'] = df['SUSP_RACE'].where(df['SUSP_RACE'].isin(valid_races), np.nan)\n",
    "df['VIC_RACE'] = df['VIC_RACE'].str.upper().str.strip()\n",
    "df['VIC_RACE'] = df['VIC_RACE'].replace('(null)', np.nan)\n",
    "df['VIC_RACE'] = df['VIC_RACE'].where(df['VIC_RACE'].isin(valid_races), np.nan)"
   ],
   "id": "86336de3c145fd9",
   "outputs": [],
   "execution_count": 18
  },
  {
   "metadata": {
    "ExecuteTime": {
     "end_time": "2024-06-11T10:21:09.915480Z",
     "start_time": "2024-06-11T10:21:01.782442Z"
    }
   },
   "cell_type": "code",
   "source": [
    "valid_sexes = ['F', 'M']\n",
    "df['SUSP_SEX'] = df['SUSP_SEX'].str.upper().str.strip()\n",
    "df['SUSP_SEX'] = df['SUSP_SEX'].replace('(null)', np.nan)\n",
    "df['SUSP_SEX'] = df['SUSP_SEX'].where(df['SUSP_SEX'].isin(valid_sexes), np.nan)\n",
    "df['VIC_SEX'] = df['VIC_SEX'].str.upper().str.strip()\n",
    "df['VIC_SEX'] = df['VIC_SEX'].replace('(null)', np.nan)\n",
    "df['VIC_SEX'] = df['VIC_SEX'].where(df['VIC_SEX'].isin(valid_sexes), np.nan)"
   ],
   "id": "a21e6c92b41cf73b",
   "outputs": [],
   "execution_count": 19
  },
  {
   "metadata": {},
   "cell_type": "markdown",
   "source": "Maps categorical columns to specified valid categories or mark them as NaN if they don't fit",
   "id": "275d3428ca2d2b0f"
  },
  {
   "metadata": {
    "ExecuteTime": {
     "end_time": "2024-06-11T10:21:16.278326Z",
     "start_time": "2024-06-11T10:21:09.918405Z"
    }
   },
   "cell_type": "code",
   "source": [
    "offense_mapping = {\n",
    "    'BURGLARY': 'PROPERTY CRIMES',\n",
    "    'GRAND LARCENY': 'PROPERTY CRIMES',\n",
    "    'FELONY ASSAULT': 'VIOLENT CRIMES',\n",
    "    'PETIT LARCENY': 'PROPERTY CRIMES',\n",
    "    'ROBBERY': 'VIOLENT CRIMES',\n",
    "    'OFFENSES AGAINST THE PERSON': 'VIOLENT CRIMES',\n",
    "    'ASSAULT 3 & RELATED OFFENSES': 'VIOLENT CRIMES',\n",
    "    'INTOXICATED & IMPAIRED DRIVING': 'TRAFFIC OFFENSES',\n",
    "    'CRIMINAL TRESPASS': 'PROPERTY CRIMES',\n",
    "    'HARRASSMENT 2': 'PUBLIC ORDER CRIMES',\n",
    "    'OTHER OFFENSES RELATED TO THEF': 'PROPERTY CRIMES',\n",
    "    'DANGEROUS WEAPONS': 'VIOLENT CRIMES',\n",
    "    'CRIMINAL MISCHIEF & RELATED OF': 'PROPERTY CRIMES',\n",
    "    'THEFT-FRAUD': 'PROPERTY CRIMES',\n",
    "    'DANGEROUS DRUGS': 'DRUG OFFENSES',\n",
    "    'OFF. AGNST PUB ORD SENSBLTY &': 'PUBLIC ORDER CRIMES',\n",
    "    'OFFENSES AGAINST PUBLIC ADMINI': 'PUBLIC ORDER CRIMES',\n",
    "    'GRAND LARCENY OF MOTOR VEHICLE': 'PROPERTY CRIMES',\n",
    "    'MISCELLANEOUS PENAL LAW': 'OTHER OFFENSES',\n",
    "    'SEX CRIMES': 'SEXUAL OFFENSES',\n",
    "    'VEHICLE AND TRAFFIC LAWS': 'TRAFFIC OFFENSES',\n",
    "    'RAPE': 'SEXUAL OFFENSES',\n",
    "    'ARSON': 'PROPERTY CRIMES',\n",
    "    'FORGERY': 'FRAUD OFFENSES',\n",
    "    'GAMBLING': 'PUBLIC ORDER CRIMES',\n",
    "    'FRAUDS': 'FRAUD OFFENSES',\n",
    "    \"BURGLAR'S TOOLS\": 'PROPERTY CRIMES',\n",
    "    'DISORDERLY CONDUCT': 'PUBLIC ORDER CRIMES',\n",
    "    'ADMINISTRATIVE CODE': 'OTHER OFFENSES',\n",
    "    'UNAUTHORIZED USE OF A VEHICLE': 'PROPERTY CRIMES',\n",
    "    'KIDNAPPING & RELATED OFFENSES': 'VIOLENT CRIMES',\n",
    "    'NYS LAWS-UNCLASSIFIED FELONY': 'OTHER OFFENSES',\n",
    "    'OTHER STATE LAWS (NON PENAL LA': 'OTHER OFFENSES',\n",
    "    'POSSESSION OF STOLEN PROPERTY': 'PROPERTY CRIMES',\n",
    "    '(null)': 'UNKNOWN',\n",
    "    'OFFENSES INVOLVING FRAUD': 'FRAUD OFFENSES',\n",
    "    'PETIT LARCENY OF MOTOR VEHICLE': 'PROPERTY CRIMES',\n",
    "    'FRAUDULENT ACCOSTING': 'FRAUD OFFENSES',\n",
    "    'ALCOHOLIC BEVERAGE CONTROL LAW': 'PUBLIC ORDER CRIMES',\n",
    "    'ESCAPE 3': 'PUBLIC ORDER CRIMES',\n",
    "    'THEFT OF SERVICES': 'PROPERTY CRIMES',\n",
    "    'CHILD ABANDONMENT/NON SUPPORT': 'VIOLENT CRIMES',\n",
    "    'OFFENSES RELATED TO CHILDREN': 'VIOLENT CRIMES',\n",
    "    'LOITERING': 'PUBLIC ORDER CRIMES',\n",
    "    'OFFENSES AGAINST PUBLIC SAFETY': 'PUBLIC ORDER CRIMES',\n",
    "    'ENDAN WELFARE INCOMP': 'VIOLENT CRIMES',\n",
    "    'PROSTITUTION & RELATED OFFENSES': 'SEXUAL OFFENSES',\n",
    "    'INTOXICATED/IMPAIRED DRIVING': 'TRAFFIC OFFENSES',\n",
    "    'OTHER STATE LAWS': 'OTHER OFFENSES',\n",
    "    'LOITERING/GAMBLING (CARDS, DIC': 'PUBLIC ORDER CRIMES',\n",
    "    'ADMINISTRATIVE CODES': 'OTHER OFFENSES',\n",
    "    'HOMICIDE-NEGLIGENT-VEHICLE': 'VIOLENT CRIMES',\n",
    "    'ANTICIPATORY OFFENSES': 'OTHER OFFENSES',\n",
    "    'HOMICIDE-NEGLIGENT,UNCLASSIFIE': 'VIOLENT CRIMES',\n",
    "    'LOITERING/DEVIATE SEX': 'SEXUAL OFFENSES',\n",
    "    'LOITERING FOR DRUG PURPOSES': 'DRUG OFFENSES',\n",
    "    'JOSTLING': 'PROPERTY CRIMES',\n",
    "    'UNLAWFUL POSS. WEAP. ON SCHOOL': 'VIOLENT CRIMES',\n",
    "    'NEW YORK CITY HEALTH CODE': 'OTHER OFFENSES',\n",
    "    'OTHER TRAFFIC INFRACTION': 'TRAFFIC OFFENSES',\n",
    "    'MURDER & NON-NEGL. MANSLAUGHTER': 'VIOLENT CRIMES',\n",
    "    'DISRUPTION OF A RELIGIOUS SERV': 'PUBLIC ORDER CRIMES',\n",
    "    'UNDER THE INFLUENCE OF DRUGS': 'DRUG OFFENSES',\n",
    "    'OFFENSES AGAINST MARRIAGE UNCL': 'OTHER OFFENSES',\n",
    "    'FORTUNE TELLING': 'PUBLIC ORDER CRIMES',\n",
    "    'OTHER STATE LAWS (NON PENAL LAW)': 'OTHER OFFENSES',\n",
    "    'CRIMINAL MISCHIEF & RELATE': 'PROPERTY CRIMES'\n",
    "}\n",
    "df['OFNS_DESC'] = df['OFNS_DESC'].str.upper().str.strip()\n",
    "df['OFNS_DESC'] = df['OFNS_DESC'].map(offense_mapping)"
   ],
   "id": "90f356922959f659",
   "outputs": [],
   "execution_count": 20
  },
  {
   "metadata": {},
   "cell_type": "markdown",
   "source": "Maps offense descriptions to broader categories defined in the offense_mapping dictionary",
   "id": "8adb94638f386c7"
  },
  {
   "metadata": {
    "ExecuteTime": {
     "end_time": "2024-06-11T10:21:22.327509Z",
     "start_time": "2024-06-11T10:21:16.280813Z"
    }
   },
   "cell_type": "code",
   "source": [
    "premise_mapping = {\n",
    "    'RESIDENCE - APT. HOUSE': 'RESIDENTIAL',\n",
    "    'BAR/NIGHT CLUB': 'COMMERCIAL',\n",
    "    'RESIDENCE - PUBLIC HOUSING': 'RESIDENTIAL',\n",
    "    'STREET': 'PUBLIC SPACE',\n",
    "    'VARIETY STORE': 'COMMERCIAL',\n",
    "    'RESIDENCE-HOUSE': 'RESIDENTIAL',\n",
    "    'TAXI (YELLOW LICENSED)': 'TRANSPORT',\n",
    "    'COMMERCIAL BUILDING': 'COMMERCIAL',\n",
    "    'PUBLIC BUILDING': 'PUBLIC SPACE',\n",
    "    'OTHER': 'OTHER',\n",
    "    'BANK': 'COMMERCIAL',\n",
    "    'GROCERY/BODEGA': 'COMMERCIAL',\n",
    "    'COLLEGE/UNIVERSITY': 'EDUCATIONAL',\n",
    "    'PUBLIC SCHOOL': 'EDUCATIONAL',\n",
    "    'PARKING LOT/GARAGE (PRIVATE)': 'PUBLIC SPACE',\n",
    "    'HOTEL/MOTEL': 'COMMERCIAL',\n",
    "    'CHAIN STORE': 'COMMERCIAL',\n",
    "    'PARK/PLAYGROUND': 'PUBLIC SPACE',\n",
    "    'TRANSIT - NYC SUBWAY': 'TRANSPORT',\n",
    "    'DEPARTMENT STORE': 'COMMERCIAL',\n",
    "    'OPEN AREAS (OPEN LOTS)': 'PUBLIC SPACE',\n",
    "    'DRUG STORE': 'COMMERCIAL',\n",
    "    'TELECOMM. STORE': 'COMMERCIAL',\n",
    "    'FAST FOOD': 'COMMERCIAL',\n",
    "    'TRANSIT FACILITY (OTHER)': 'TRANSPORT',\n",
    "    'CHECK CASHING BUSINESS': 'COMMERCIAL',\n",
    "    'RESTAURANT/DINER': 'COMMERCIAL',\n",
    "    'PARKING LOT/GARAGE (PUBLIC)': 'PUBLIC SPACE',\n",
    "    'GYM/FITNESS FACILITY': 'COMMERCIAL',\n",
    "    'BUS STOP': 'TRANSPORT',\n",
    "    'STORE UNCLASSIFIED': 'COMMERCIAL',\n",
    "    'CANDY STORE': 'COMMERCIAL',\n",
    "    'GAS STATION': 'COMMERCIAL',\n",
    "    'FOOD SUPERMARKET': 'COMMERCIAL',\n",
    "    'SMALL MERCHANT': 'COMMERCIAL',\n",
    "    'CLOTHING/BOUTIQUE': 'COMMERCIAL',\n",
    "    'DOCTOR/DENTIST OFFICE': 'MEDICAL',\n",
    "    'HIGHWAY/PARKWAY': 'PUBLIC SPACE',\n",
    "    'BEAUTY & NAIL SALON': 'COMMERCIAL',\n",
    "    'ABANDONED BUILDING': 'OTHER',\n",
    "    'SYNAGOGUE': 'RELIGIOUS',\n",
    "    'HOSPITAL': 'MEDICAL',\n",
    "    'TAXI (LIVERY LICENSED)': 'TRANSPORT',\n",
    "    'ATM': 'COMMERCIAL',\n",
    "    'SOCIAL CLUB/POLICY': 'COMMERCIAL',\n",
    "    'CHURCH': 'RELIGIOUS',\n",
    "    'CONSTRUCTION SITE': 'OTHER',\n",
    "    'STORAGE FACILITY': 'COMMERCIAL',\n",
    "    'PRIVATE/PAROCHIAL SCHOOL': 'EDUCATIONAL',\n",
    "    'BUS (NYC TRANSIT)': 'TRANSPORT',\n",
    "    'FACTORY/WAREHOUSE': 'COMMERCIAL',\n",
    "    'JEWELRY': 'COMMERCIAL',\n",
    "    'VIDEO STORE': 'COMMERCIAL',\n",
    "    'DRY CLEANER/LAUNDRY': 'COMMERCIAL',\n",
    "    'BRIDGE': 'PUBLIC SPACE',\n",
    "    'LIQUOR STORE': 'COMMERCIAL',\n",
    "    'TUNNEL': 'PUBLIC SPACE',\n",
    "    'MOSQUE': 'RELIGIOUS',\n",
    "    'CEMETERY': 'PUBLIC SPACE',\n",
    "    'BOOK/CARD': 'COMMERCIAL',\n",
    "    'BUS (OTHER)': 'TRANSPORT',\n",
    "    'TRAMWAY': 'TRANSPORT',\n",
    "    'SHOE': 'COMMERCIAL',\n",
    "    'LOAN COMPANY': 'COMMERCIAL',\n",
    "    'OTHER HOUSE OF WORSHIP': 'RELIGIOUS',\n",
    "    'BUS TERMINAL': 'TRANSPORT',\n",
    "    'AIRPORT TERMINAL': 'TRANSPORT',\n",
    "    'PHOTO/COPY': 'COMMERCIAL',\n",
    "    'MARINA/PIER': 'PUBLIC SPACE',\n",
    "    'TAXI/LIVERY (UNLICENSED)': 'TRANSPORT',\n",
    "    'FERRY/FERRY TERMINAL': 'TRANSPORT',\n",
    "    '(null)': 'UNKNOWN',\n",
    "    'HOMELESS SHELTER': 'RESIDENTIAL',\n",
    "    'MULTI DWELL - APT BUILD': 'RESIDENTIAL',\n",
    "    'PVT HOUSE': 'RESIDENTIAL',\n",
    "    'MULTI DWELL - PUBLIC HOUS': 'RESIDENTIAL',\n",
    "    'COMMERCIAL BLDG': 'COMMERCIAL',\n",
    "    'BEAUTY/NAIL SALON': 'COMMERCIAL',\n",
    "    'JEWELRY STORE': 'COMMERCIAL',\n",
    "    'SUPERMARKET': 'COMMERCIAL',\n",
    "    'SOCIAL CLUB/POLICY LOCATI': 'COMMERCIAL',\n",
    "    'REAL ESTATE': 'COMMERCIAL',\n",
    "    'CLOTHING BOUTIQUE': 'COMMERCIAL',\n",
    "    'DEPT STORE': 'COMMERCIAL',\n",
    "    'MOBILE FOOD': 'COMMERCIAL',\n",
    "    'MAILBOX OUTSIDE': 'PUBLIC SPACE',\n",
    "    'DOCTOR/DENTIST': 'MEDICAL',\n",
    "    np.nan: 'UNKNOWN',\n",
    "}\n",
    "\n",
    "df['PREM_TYP_DESC'] = df['PREM_TYP_DESC'].str.upper().str.strip()\n",
    "df['PREM_TYP_DESC'] = df['PREM_TYP_DESC'].map(premise_mapping)"
   ],
   "id": "13368b0e1661ea00",
   "outputs": [],
   "execution_count": 21
  },
  {
   "metadata": {},
   "cell_type": "markdown",
   "source": "Maps premise types to broader categories defined in the premise_mapping dictionary",
   "id": "8e10c8a5098576b1"
  },
  {
   "metadata": {
    "ExecuteTime": {
     "end_time": "2024-06-11T10:22:17.173576Z",
     "start_time": "2024-06-11T10:21:22.330423Z"
    }
   },
   "cell_type": "code",
   "source": [
    "df['STATION_NAME'] = df['STATION_NAME'].str.upper().str.strip()\n",
    "df['STATION_NAME'] = np.select(\n",
    "    [\n",
    "        df['STATION_NAME'].str.contains('STREET', case=False, na=False),\n",
    "        df['STATION_NAME'].str.contains('AVENUE', case=False, na=False),\n",
    "        df['STATION_NAME'].str.contains('ROAD|PKWY|HIGHWAY|BLVD|LANE', case=False, na=False),\n",
    "        df['STATION_NAME'].str.contains('SQUARE|PLAZA|CENTER|TERMINAL|CIRCLE|COURT', case=False, na=False),\n",
    "        df['STATION_NAME'].str.contains('HALL|BRIDGE|BUILDING|PIER|TUNNEL|HILL', case=False, na=False),\n",
    "        df['STATION_NAME'].str.contains('PARK|GARDEN|PARKWAY', case=False, na=False),\n",
    "        df['STATION_NAME'].str.contains('STATION|AIRPORT', case=False, na=False),\n",
    "        df['STATION_NAME'].str.contains('OFFICE', case=False, na=False),\n",
    "        df['STATION_NAME'].str.contains('COLLEGE|UNIVERSITY|SCHOOL', case=False, na=False),\n",
    "        df['STATION_NAME'].str.contains('HOSPITAL|CLINIC|MEDICAL|HEALTH', case=False, na=False),\n",
    "        df['STATION_NAME'].str.contains('MUSEUM|AQUARIUM|GALLERY|EXHIBITION|CULTURE', case=False, na=False),\n",
    "        df['STATION_NAME'].str.contains('SHOPPING|MALL|STORE|BOUTIQUE|MARKET', case=False, na=False),\n",
    "        df['STATION_NAME'].str.contains('null', case=False, na=False),\n",
    "        df['STATION_NAME'].isna()\n",
    "    ],\n",
    "    [\n",
    "        'STREET',\n",
    "        'AVENUE',\n",
    "        'ROAD/PKWY/HIGHWAY/BLVD/LANE',\n",
    "        'SQUARE/PLAZA/CENTER/TERMINAL/CIRCLE/COURT',\n",
    "        'HALL/BRIDGE/BUILDING/PIER/TUNNEL/HILL',\n",
    "        'PARK/GARDEN/PARKWAY',\n",
    "        'STATION/AIRPORT',\n",
    "        'OFFICE',\n",
    "        'COLLEGE/UNIVERSITY/SCHOOL',\n",
    "        'HOSPITAL/CLINIC/MEDICAL/HEALTH',\n",
    "        'MUSEUM/AQUARIUM/GALLERY/EXHIBITION/CULTURE',\n",
    "        'SHOPPING/MALL/STORE/BOUTIQUE/MARKET',\n",
    "        'UNKNOWN',\n",
    "        'UNKNOWN'\n",
    "    ],\n",
    "    default='Other'\n",
    ")"
   ],
   "id": "b1c9a5b475855505",
   "outputs": [],
   "execution_count": 22
  },
  {
   "metadata": {},
   "cell_type": "markdown",
   "source": "Cleans and formats station names",
   "id": "e76b2dcdb26d14e9"
  },
  {
   "metadata": {
    "ExecuteTime": {
     "end_time": "2024-06-11T10:22:50.212044Z",
     "start_time": "2024-06-11T10:22:17.186420Z"
    }
   },
   "cell_type": "code",
   "source": [
    "date_columns = [\"CMPLNT_FR_DT\", \"CMPLNT_TO_DT\"]\n",
    "for date_col in date_columns:\n",
    "    if date_col in df.columns:\n",
    "        df = df[(df[date_col].dt.year >= 2006) & (df[date_col].dt.year <= 2019)]"
   ],
   "id": "196c9c53624da4a8",
   "outputs": [],
   "execution_count": 24
  },
  {
   "metadata": {},
   "cell_type": "markdown",
   "source": "Filter dates between 2006 and 2019",
   "id": "ceb16eb082502b9b"
  },
  {
   "metadata": {
    "ExecuteTime": {
     "end_time": "2024-06-11T10:23:21.747510Z",
     "start_time": "2024-06-11T10:22:50.218497Z"
    }
   },
   "cell_type": "code",
   "source": [
    "if 'Latitude' in df.columns and 'Longitude' in df.columns:\n",
    "    df = df[(df['Latitude'] >= 40.477399) & (df['Latitude'] <= 40.917577)]\n",
    "    df = df[(df['Longitude'] >= -74.25909) & (df['Longitude'] <= -73.700272)]"
   ],
   "id": "1f488cd63e32e620",
   "outputs": [],
   "execution_count": 25
  },
  {
   "metadata": {},
   "cell_type": "markdown",
   "source": "Remove rows with invalid latitude and longitude for New York City\n",
   "id": "4abd3e2e5fb0ac88"
  },
  {
   "metadata": {
    "ExecuteTime": {
     "end_time": "2024-06-11T10:24:55.984541Z",
     "start_time": "2024-06-11T10:23:21.752696Z"
    }
   },
   "cell_type": "code",
   "source": [
    "invalid_values = [\"UNKNOWN\", \"(null)\", \"-1\", \"\"]\n",
    "valid_columns = ['CMPLNT_NUM', 'CMPLNT_FR_DT', 'CMPLNT_FR_TM', 'CMPLNT_TO_DT', 'CMPLNT_TO_TM', 'ADDR_PCT_CD', 'OFNS_DESC', 'LAW_CAT_CD', 'BORO_NM', 'LOC_OF_OCCUR_DESC', 'PREM_TYP_DESC', 'Latitude', 'Longitude']\n",
    "\n",
    "for column in valid_columns:\n",
    "    if df[column].dtype == object:\n",
    "        df = df[~df[column].isin(invalid_values)]\n",
    "    elif df[column].dtype in [np.int64, np.float64]:\n",
    "        df = df[df[column] != -1]\n",
    "        \n",
    "df.dropna(inplace=True, subset=valid_columns)"
   ],
   "id": "1ba43a6dae94e010",
   "outputs": [],
   "execution_count": 26
  },
  {
   "metadata": {},
   "cell_type": "markdown",
   "source": "Remove rows with invalid values for each relevant column",
   "id": "7af922e714621d8f"
  },
  {
   "metadata": {},
   "cell_type": "markdown",
   "source": "## 4. Analysing Data:",
   "id": "23f1ba5759d3b268"
  },
  {
   "metadata": {
    "ExecuteTime": {
     "end_time": "2024-06-11T10:24:56.038700Z",
     "start_time": "2024-06-11T10:24:55.992153Z"
    }
   },
   "cell_type": "code",
   "source": [
    "print(\"First 10 rows of the data:\")\n",
    "print(df.head(10))"
   ],
   "id": "e2336a505dee4182",
   "outputs": [
    {
     "name": "stdout",
     "output_type": "stream",
     "text": [
      "First 10 rows of the data:\n",
      "   CMPLNT_NUM CMPLNT_FR_DT        CMPLNT_FR_TM CMPLNT_TO_DT  \\\n",
      "0    39468181   2008-02-20 2024-06-11 07:00:00   2008-02-23   \n",
      "1    50539499   2008-08-21 2024-06-11 22:00:00   2008-08-21   \n",
      "2    45223390   2008-04-03 2024-06-11 03:35:00   2008-04-03   \n",
      "4    44451016   2008-03-10 2024-06-11 22:00:00   2008-03-10   \n",
      "5    49918184   2008-08-08 2024-06-11 01:30:00   2008-08-08   \n",
      "8    47391386   2008-06-19 2024-06-11 15:30:00   2008-06-19   \n",
      "9    45814265   2008-04-19 2024-06-11 19:45:00   2008-04-19   \n",
      "10   47131410   2008-06-08 2024-06-11 11:00:00   2008-06-09   \n",
      "11   45672193   2008-04-13 2024-06-11 17:00:00   2008-04-14   \n",
      "12   37570315   2008-01-07 2024-06-11 02:00:00   2008-01-07   \n",
      "\n",
      "          CMPLNT_TO_TM  ADDR_PCT_CD            OFNS_DESC  PD_CD   LAW_CAT_CD  \\\n",
      "0  2024-06-11 08:00:00           88      PROPERTY CRIMES    221       FELONY   \n",
      "1  2024-06-11 23:00:00           19      PROPERTY CRIMES    438       FELONY   \n",
      "2  2024-06-11 03:50:00           77       VIOLENT CRIMES    109       FELONY   \n",
      "4  2024-06-11 22:10:00           67       VIOLENT CRIMES    397       FELONY   \n",
      "5  2024-06-11 01:34:00           34       VIOLENT CRIMES    115  MISDEMEANOR   \n",
      "8  2024-06-11 16:30:00           61      PROPERTY CRIMES    205  MISDEMEANOR   \n",
      "9  2024-06-11 19:50:00           83  PUBLIC ORDER CRIMES    637    VIOLATION   \n",
      "10 2024-06-11 03:00:00           66      PROPERTY CRIMES    223       FELONY   \n",
      "11 2024-06-11 10:00:00           23      PROPERTY CRIMES    213       FELONY   \n",
      "12 2024-06-11 03:00:00           62  PUBLIC ORDER CRIMES    638    VIOLATION   \n",
      "\n",
      "      BORO_NM  ...       SUSP_RACE SUSP_SEX   Latitude  Longitude  \\\n",
      "0    BROOKLYN  ...         UNKNOWN      NaN  40.692464 -73.972708   \n",
      "1   MANHATTAN  ...             NaN      NaN  40.771341 -73.953418   \n",
      "2    BROOKLYN  ...             NaN      NaN  40.671245 -73.926713   \n",
      "4    BROOKLYN  ...           BLACK        M  40.650142 -73.944674   \n",
      "5   MANHATTAN  ...             NaN      NaN  40.855233 -73.929406   \n",
      "8    BROOKLYN  ...             NaN      NaN  40.605188 -73.952509   \n",
      "9    BROOKLYN  ...  WHITE HISPANIC        M  40.689954 -73.916924   \n",
      "10   BROOKLYN  ...             NaN      NaN  40.627511 -73.971802   \n",
      "11  MANHATTAN  ...         UNKNOWN      NaN  40.793810 -73.943041   \n",
      "12   BROOKLYN  ...         UNKNOWN        F  40.602992 -73.973229   \n",
      "\n",
      "                    Lat_Lon              PATROL_BORO  STATION_NAME  \\\n",
      "0   (40.692464, -73.972708)  PATROL BORO BKLYN NORTH       UNKNOWN   \n",
      "1   (40.771341, -73.953418)    PATROL BORO MAN NORTH       UNKNOWN   \n",
      "2   (40.671245, -73.926713)  PATROL BORO BKLYN NORTH       UNKNOWN   \n",
      "4   (40.650142, -73.944674)  PATROL BORO BKLYN SOUTH       UNKNOWN   \n",
      "5   (40.855233, -73.929406)    PATROL BORO MAN NORTH       UNKNOWN   \n",
      "8   (40.605188, -73.952509)  PATROL BORO BKLYN SOUTH       UNKNOWN   \n",
      "9   (40.689954, -73.916924)  PATROL BORO BKLYN NORTH       UNKNOWN   \n",
      "10  (40.627511, -73.971802)  PATROL BORO BKLYN SOUTH       UNKNOWN   \n",
      "11   (40.79381, -73.943041)    PATROL BORO MAN NORTH       UNKNOWN   \n",
      "12  (40.602992, -73.973229)  PATROL BORO BKLYN SOUTH       UNKNOWN   \n",
      "\n",
      "    VIC_AGE_GROUP        VIC_RACE VIC_SEX  \n",
      "0           25-44           WHITE       F  \n",
      "1           45-64  WHITE HISPANIC       F  \n",
      "2           25-44           BLACK       F  \n",
      "4           25-44           BLACK       M  \n",
      "5             NaN         UNKNOWN     NaN  \n",
      "8           18-24  WHITE HISPANIC       F  \n",
      "9           25-44  WHITE HISPANIC       F  \n",
      "10          25-44           WHITE       M  \n",
      "11            NaN         UNKNOWN     NaN  \n",
      "12            NaN         UNKNOWN       M  \n",
      "\n",
      "[10 rows x 24 columns]\n"
     ]
    }
   ],
   "execution_count": 27
  },
  {
   "metadata": {},
   "cell_type": "markdown",
   "source": "Prints first 10 rows",
   "id": "4098cb5b5eb39c58"
  },
  {
   "metadata": {
    "ExecuteTime": {
     "end_time": "2024-06-11T10:24:56.051992Z",
     "start_time": "2024-06-11T10:24:56.048632Z"
    }
   },
   "cell_type": "code",
   "source": "print(\"Shape of the data:\", df.shape)",
   "id": "b3c6692deb7be1a3",
   "outputs": [
    {
     "name": "stdout",
     "output_type": "stream",
     "text": [
      "Shape of the data: (4183078, 24)\n"
     ]
    }
   ],
   "execution_count": 28
  },
  {
   "metadata": {},
   "cell_type": "markdown",
   "source": "Prints shape of the data",
   "id": "5259ba9ba97b5620"
  },
  {
   "metadata": {
    "ExecuteTime": {
     "end_time": "2024-06-11T10:27:03.094714Z",
     "start_time": "2024-06-11T10:27:03.086999Z"
    }
   },
   "cell_type": "code",
   "source": "print(\"Columns in the data:\", df.columns)",
   "id": "d5ffff81a7527dee",
   "outputs": [
    {
     "name": "stdout",
     "output_type": "stream",
     "text": [
      "Columns in the data: Index(['CMPLNT_NUM', 'CMPLNT_FR_DT', 'CMPLNT_FR_TM', 'CMPLNT_TO_DT',\n",
      "       'CMPLNT_TO_TM', 'ADDR_PCT_CD', 'OFNS_DESC', 'PD_CD', 'LAW_CAT_CD',\n",
      "       'BORO_NM', 'LOC_OF_OCCUR_DESC', 'PREM_TYP_DESC', 'HOUSING_PSA',\n",
      "       'SUSP_AGE_GROUP', 'SUSP_RACE', 'SUSP_SEX', 'Latitude', 'Longitude',\n",
      "       'Lat_Lon', 'PATROL_BORO', 'STATION_NAME', 'VIC_AGE_GROUP', 'VIC_RACE',\n",
      "       'VIC_SEX'],\n",
      "      dtype='object')\n"
     ]
    }
   ],
   "execution_count": 29
  },
  {
   "metadata": {},
   "cell_type": "markdown",
   "source": "Prints columns of the data",
   "id": "f22667c29dcb3c1d"
  },
  {
   "metadata": {
    "ExecuteTime": {
     "end_time": "2024-06-11T10:27:31.987545Z",
     "start_time": "2024-06-11T10:27:29.575539Z"
    }
   },
   "cell_type": "code",
   "source": [
    "print(\"Descriptive statistics of the data:\")\n",
    "print(df.describe())"
   ],
   "id": "cbfa76a9e6f29536",
   "outputs": [
    {
     "name": "stdout",
     "output_type": "stream",
     "text": [
      "Descriptive statistics of the data:\n",
      "                        CMPLNT_FR_DT                   CMPLNT_FR_TM  \\\n",
      "count                        4183078                        4183078   \n",
      "mean   2013-04-03 20:13:35.541857280  2024-06-11 13:31:47.065542656   \n",
      "min              2006-01-01 00:00:00            2024-06-11 00:00:00   \n",
      "25%              2009-10-10 00:00:00            2024-06-11 09:00:00   \n",
      "50%              2013-06-05 00:00:00            2024-06-11 14:30:00   \n",
      "75%              2016-10-07 00:00:00            2024-06-11 19:00:00   \n",
      "max              2019-12-31 00:00:00            2024-06-11 23:59:00   \n",
      "std                              NaN                            NaN   \n",
      "\n",
      "                        CMPLNT_TO_DT                   CMPLNT_TO_TM  \\\n",
      "count                        4183078                        4183078   \n",
      "mean   2013-04-10 18:25:05.527555584  2024-06-11 13:31:40.666662912   \n",
      "min              2006-01-01 00:00:00            2024-06-11 00:00:00   \n",
      "25%              2009-10-17 00:00:00            2024-06-11 09:00:00   \n",
      "50%              2013-06-12 00:00:00            2024-06-11 14:16:00   \n",
      "75%              2016-10-14 00:00:00            2024-06-11 18:40:00   \n",
      "max              2019-12-31 00:00:00            2024-06-11 23:59:00   \n",
      "std                              NaN                            NaN   \n",
      "\n",
      "        ADDR_PCT_CD         PD_CD   HOUSING_PSA      Latitude     Longitude  \n",
      "count  4.183078e+06  4.183078e+06  4.183078e+06  4.183078e+06  4.183078e+06  \n",
      "mean   6.469486e+01  3.919455e+02  6.113508e+02  4.072995e+01 -7.392678e+01  \n",
      "min    1.000000e+00  1.010000e+02 -1.000000e+00  4.049890e+01 -7.425474e+01  \n",
      "25%    4.000000e+01  2.540000e+02 -1.000000e+00  4.067005e+01 -7.397519e+01  \n",
      "50%    6.700000e+01  3.380000e+02 -1.000000e+00  4.072542e+01 -7.393081e+01  \n",
      "75%    1.010000e+02  6.370000e+02 -1.000000e+00  4.080025e+01 -7.388305e+01  \n",
      "max    1.230000e+02  9.220000e+02  7.127800e+04  4.091271e+01 -7.370029e+01  \n",
      "std    3.504557e+01  2.033328e+02  4.612322e+03  8.241115e-02  7.915372e-02  \n"
     ]
    }
   ],
   "execution_count": 30
  },
  {
   "metadata": {},
   "cell_type": "markdown",
   "source": "Prints descriptive statistics",
   "id": "d9fd815f7192ff68"
  },
  {
   "metadata": {
    "ExecuteTime": {
     "end_time": "2024-06-11T10:27:32.023735Z",
     "start_time": "2024-06-11T10:27:31.989564Z"
    }
   },
   "cell_type": "code",
   "source": [
    "print(\"Info about the data:\")\n",
    "df.info()"
   ],
   "id": "ceca49446c1c6991",
   "outputs": [
    {
     "name": "stdout",
     "output_type": "stream",
     "text": [
      "Info about the data:\n",
      "<class 'pandas.core.frame.DataFrame'>\n",
      "Index: 4183078 entries, 0 to 8914837\n",
      "Data columns (total 24 columns):\n",
      " #   Column             Dtype         \n",
      "---  ------             -----         \n",
      " 0   CMPLNT_NUM         object        \n",
      " 1   CMPLNT_FR_DT       datetime64[ns]\n",
      " 2   CMPLNT_FR_TM       datetime64[ns]\n",
      " 3   CMPLNT_TO_DT       datetime64[ns]\n",
      " 4   CMPLNT_TO_TM       datetime64[ns]\n",
      " 5   ADDR_PCT_CD        int64         \n",
      " 6   OFNS_DESC          object        \n",
      " 7   PD_CD              int64         \n",
      " 8   LAW_CAT_CD         object        \n",
      " 9   BORO_NM            object        \n",
      " 10  LOC_OF_OCCUR_DESC  object        \n",
      " 11  PREM_TYP_DESC      object        \n",
      " 12  HOUSING_PSA        int64         \n",
      " 13  SUSP_AGE_GROUP     object        \n",
      " 14  SUSP_RACE          object        \n",
      " 15  SUSP_SEX           object        \n",
      " 16  Latitude           float64       \n",
      " 17  Longitude          float64       \n",
      " 18  Lat_Lon            object        \n",
      " 19  PATROL_BORO        object        \n",
      " 20  STATION_NAME       object        \n",
      " 21  VIC_AGE_GROUP      object        \n",
      " 22  VIC_RACE           object        \n",
      " 23  VIC_SEX            object        \n",
      "dtypes: datetime64[ns](4), float64(2), int64(3), object(15)\n",
      "memory usage: 797.9+ MB\n"
     ]
    }
   ],
   "execution_count": 31
  },
  {
   "metadata": {},
   "cell_type": "markdown",
   "source": "Prints information about the data",
   "id": "5ae039a202cfe827"
  },
  {
   "metadata": {
    "ExecuteTime": {
     "end_time": "2024-06-11T10:28:05.178643Z",
     "start_time": "2024-06-11T10:27:32.028042Z"
    }
   },
   "cell_type": "code",
   "source": [
    "print(\"Data types of each column:\")\n",
    "for col in df.columns:\n",
    "    t = set()\n",
    "    for item in df[col]:\n",
    "        t.add(type(item))\n",
    "    print(f\"Column '{col}' has types: {t}\")"
   ],
   "id": "43a81c9cfe54bf50",
   "outputs": [
    {
     "name": "stdout",
     "output_type": "stream",
     "text": [
      "Data types of each column:\n",
      "Column 'CMPLNT_NUM' has types: {<class 'str'>}\n",
      "Column 'CMPLNT_FR_DT' has types: {<class 'pandas._libs.tslibs.timestamps.Timestamp'>}\n",
      "Column 'CMPLNT_FR_TM' has types: {<class 'pandas._libs.tslibs.timestamps.Timestamp'>}\n",
      "Column 'CMPLNT_TO_DT' has types: {<class 'pandas._libs.tslibs.timestamps.Timestamp'>}\n",
      "Column 'CMPLNT_TO_TM' has types: {<class 'pandas._libs.tslibs.timestamps.Timestamp'>}\n",
      "Column 'ADDR_PCT_CD' has types: {<class 'int'>}\n",
      "Column 'OFNS_DESC' has types: {<class 'str'>}\n",
      "Column 'PD_CD' has types: {<class 'int'>}\n",
      "Column 'LAW_CAT_CD' has types: {<class 'str'>}\n",
      "Column 'BORO_NM' has types: {<class 'str'>}\n",
      "Column 'LOC_OF_OCCUR_DESC' has types: {<class 'str'>}\n",
      "Column 'PREM_TYP_DESC' has types: {<class 'str'>}\n",
      "Column 'HOUSING_PSA' has types: {<class 'int'>}\n",
      "Column 'SUSP_AGE_GROUP' has types: {<class 'float'>, <class 'str'>}\n",
      "Column 'SUSP_RACE' has types: {<class 'float'>, <class 'str'>}\n",
      "Column 'SUSP_SEX' has types: {<class 'float'>, <class 'str'>}\n",
      "Column 'Latitude' has types: {<class 'float'>}\n",
      "Column 'Longitude' has types: {<class 'float'>}\n",
      "Column 'Lat_Lon' has types: {<class 'str'>}\n",
      "Column 'PATROL_BORO' has types: {<class 'str'>}\n",
      "Column 'STATION_NAME' has types: {<class 'str'>}\n",
      "Column 'VIC_AGE_GROUP' has types: {<class 'float'>, <class 'str'>}\n",
      "Column 'VIC_RACE' has types: {<class 'float'>, <class 'str'>}\n",
      "Column 'VIC_SEX' has types: {<class 'float'>, <class 'str'>}\n"
     ]
    }
   ],
   "execution_count": 32
  },
  {
   "metadata": {},
   "cell_type": "markdown",
   "source": "Prints data types of each column",
   "id": "be976e656d9abb13"
  },
  {
   "metadata": {
    "ExecuteTime": {
     "end_time": "2024-06-11T10:28:13.814478Z",
     "start_time": "2024-06-11T10:28:05.180968Z"
    }
   },
   "cell_type": "code",
   "source": [
    "print(\"Unique values in each column:\")\n",
    "for col in df.columns:\n",
    "    print(f\"Column '{col}' unique values:\", df[col].unique())"
   ],
   "id": "a70815e194991dcf",
   "outputs": [
    {
     "name": "stdout",
     "output_type": "stream",
     "text": [
      "Unique values in each column:\n",
      "Column 'CMPLNT_NUM' unique values: ['39468181' '50539499' '45223390' ... '52614163' '47521554' '51084712']\n",
      "Column 'CMPLNT_FR_DT' unique values: <DatetimeArray>\n",
      "['2008-02-20 00:00:00', '2008-08-21 00:00:00', '2008-04-03 00:00:00',\n",
      " '2008-03-10 00:00:00', '2008-08-08 00:00:00', '2008-06-19 00:00:00',\n",
      " '2008-04-19 00:00:00', '2008-06-08 00:00:00', '2008-04-13 00:00:00',\n",
      " '2008-01-07 00:00:00',\n",
      " ...\n",
      " '2006-08-13 00:00:00', '2006-04-17 00:00:00', '2006-10-11 00:00:00',\n",
      " '2006-08-29 00:00:00', '2006-04-21 00:00:00', '2007-03-22 00:00:00',\n",
      " '2007-02-18 00:00:00', '2007-04-12 00:00:00', '2007-08-23 00:00:00',\n",
      " '2007-03-09 00:00:00']\n",
      "Length: 5113, dtype: datetime64[ns]\n",
      "Column 'CMPLNT_FR_TM' unique values: <DatetimeArray>\n",
      "['2024-06-11 07:00:00', '2024-06-11 22:00:00', '2024-06-11 03:35:00',\n",
      " '2024-06-11 01:30:00', '2024-06-11 15:30:00', '2024-06-11 19:45:00',\n",
      " '2024-06-11 11:00:00', '2024-06-11 17:00:00', '2024-06-11 02:00:00',\n",
      " '2024-06-11 19:00:00',\n",
      " ...\n",
      " '2024-06-11 06:36:00', '2024-06-11 03:29:00', '2024-06-11 06:54:00',\n",
      " '2024-06-11 07:41:00', '2024-06-11 05:49:00', '2024-06-11 05:39:00',\n",
      " '2024-06-11 04:03:00', '2024-06-11 05:44:00', '2024-06-11 05:47:00',\n",
      " '2024-06-11 06:31:00']\n",
      "Length: 1441, dtype: datetime64[ns]\n",
      "Column 'CMPLNT_TO_DT' unique values: <DatetimeArray>\n",
      "['2008-02-23 00:00:00', '2008-08-21 00:00:00', '2008-04-03 00:00:00',\n",
      " '2008-03-10 00:00:00', '2008-08-08 00:00:00', '2008-06-19 00:00:00',\n",
      " '2008-04-19 00:00:00', '2008-06-09 00:00:00', '2008-04-14 00:00:00',\n",
      " '2008-01-07 00:00:00',\n",
      " ...\n",
      " '2007-06-18 00:00:00', '2007-08-24 00:00:00', '2007-03-23 00:00:00',\n",
      " '2007-08-08 00:00:00', '2007-04-09 00:00:00', '2007-08-16 00:00:00',\n",
      " '2007-03-29 00:00:00', '2007-03-11 00:00:00', '2007-04-19 00:00:00',\n",
      " '2007-04-22 00:00:00']\n",
      "Length: 5113, dtype: datetime64[ns]\n",
      "Column 'CMPLNT_TO_TM' unique values: <DatetimeArray>\n",
      "['2024-06-11 08:00:00', '2024-06-11 23:00:00', '2024-06-11 03:50:00',\n",
      " '2024-06-11 22:10:00', '2024-06-11 01:34:00', '2024-06-11 16:30:00',\n",
      " '2024-06-11 19:50:00', '2024-06-11 03:00:00', '2024-06-11 10:00:00',\n",
      " '2024-06-11 19:04:00',\n",
      " ...\n",
      " '2024-06-11 06:49:00', '2024-06-11 06:26:00', '2024-06-11 05:54:00',\n",
      " '2024-06-11 05:23:00', '2024-06-11 06:41:00', '2024-06-11 07:09:00',\n",
      " '2024-06-11 07:48:00', '2024-06-11 06:52:00', '2024-06-11 06:53:00',\n",
      " '2024-06-11 06:56:00']\n",
      "Length: 1440, dtype: datetime64[ns]\n",
      "Column 'ADDR_PCT_CD' unique values: [ 88  19  77  67  34  61  83  66  23  62  20  17  32  70  73  63  40  28\n",
      "  44  24  71  78  79  69  90  30  18 108 114  81  50  46  94  25  26  13\n",
      "  33 104  60   9  72  52   7  42  22  41  75 100  48 115 110  43  49  47\n",
      " 102 112 106  45 109 107 103 113 105 111 101 120 123 122   1  76   6  68\n",
      "  10   5  14  84 121]\n",
      "Column 'OFNS_DESC' unique values: ['PROPERTY CRIMES' 'VIOLENT CRIMES' 'PUBLIC ORDER CRIMES' 'DRUG OFFENSES'\n",
      " 'SEXUAL OFFENSES' 'FRAUD OFFENSES' 'OTHER OFFENSES' 'TRAFFIC OFFENSES']\n",
      "Column 'PD_CD' unique values: [221 438 109 397 115 205 637 223 213 638 478 101 349 321 254 500 639 782\n",
      " 259 361 567 338 405 343 179 333 258 157 503 681 441 263 451 244 718 457\n",
      " 749 760 750 916 569 335 748 922 175 419 211 905 267 153 106 357 399 421\n",
      " 707 269 313 377 461 793 511 256 183 339 848 155 557 159 113 388 204 739\n",
      " 878 548 490 759 403 233 439 729 198 363 407 389 168 515 224 384 494 730\n",
      " 501 711 727 509 111 462 415 350 305 170 510 231 117 391 507 367 371 493\n",
      " 568 705 261 435 307 779 802 277 203 347 640 708 301 413 443 214 521 417\n",
      " 243 847 644 502 744 505 566 273 683 401 442 489 792 723 197 433 544 375\n",
      " 643 110 761 512 398 264 380 625 695 524 508 181 570 241 201 209 788 479\n",
      " 703 303 382 466 234 341 423 379 574 112 385 880 596 271 706 498 193 180\n",
      " 770 809 455 519 164 265 450 392 266 329 742 849 191 199 431 754 409 393\n",
      " 789 764 185 565 366 772 766 447 725 661 588 762 576 610 858 674 360 293\n",
      " 665 414 587 879 445 862 872 829 746 652 345 585 514 633 553 365 477 647\n",
      " 373 342 520 166 781 395 532 874 591 533 351 195 719 119 672 586 724 918\n",
      " 701 563 697 281 289 283 491 605 275 604 464 595 291 853 531 826 907 122\n",
      " 641 799 187 323 619 529 429 104 645 696 687 888 174 125 688 594 775 146\n",
      " 584 812 663 331 476 107 890 627 561 887 899 327 721 420 381 390 889 841\n",
      " 297 530 537 803 892 715 796 602 177 475 780 285 733 787 105 268 114 412\n",
      " 593 468 822 299 756 693 731 355 685 522 811 737 386 866 860 513 691 648\n",
      " 176 406 418 425 689 827 904 408 424 428 410 430 402 411 422 437 426 416\n",
      " 434 404 432 436 664 646 840 839 659 427 821 649 248 698 622 820 694 523\n",
      " 394 844 387 344 845 864 396 383 662 178 667 783 784 669 876 798 108 808\n",
      " 102 868 103 861 785 352 877 458 353 459 121 148]\n",
      "Column 'LAW_CAT_CD' unique values: ['FELONY' 'MISDEMEANOR' 'VIOLATION']\n",
      "Column 'BORO_NM' unique values: ['BROOKLYN' 'MANHATTAN' 'BRONX' 'QUEENS' 'STATEN ISLAND']\n",
      "Column 'LOC_OF_OCCUR_DESC' unique values: ['INSIDE' 'FRONT OF' 'OPPOSITE OF' 'REAR OF']\n",
      "Column 'PREM_TYP_DESC' unique values: ['RESIDENTIAL' 'COMMERCIAL' 'PUBLIC SPACE' 'TRANSPORT' 'EDUCATIONAL'\n",
      " 'OTHER' 'RELIGIOUS' 'MEDICAL']\n",
      "Column 'HOUSING_PSA' unique values: [   -1  3360   794 ... 60853 54043 53007]\n",
      "Column 'SUSP_AGE_GROUP' unique values: [nan '<18' '18-24' '25-44' '45-64' '65+' 'UNKNOWN']\n",
      "Column 'SUSP_RACE' unique values: ['UNKNOWN' nan 'BLACK' 'WHITE HISPANIC' 'BLACK HISPANIC' 'WHITE'\n",
      " 'ASIAN / PACIFIC ISLANDER' 'AMERICAN INDIAN/ALASKAN NATIVE']\n",
      "Column 'SUSP_SEX' unique values: [nan 'M' 'F']\n",
      "Column 'Latitude' unique values: [40.692464   40.771341   40.671245   ... 40.74449691 40.637268\n",
      " 40.70142324]\n",
      "Column 'Longitude' unique values: [-73.972708   -73.953418   -73.926713   ... -73.95599355 -73.919151\n",
      " -73.94306372]\n",
      "Column 'Lat_Lon' unique values: ['(40.692464, -73.972708)' '(40.771341, -73.953418)'\n",
      " '(40.671245, -73.926713)' ... '(40.74449691, -73.95599355)'\n",
      " '(40.637268, -73.919151)' '(40.70142324, -73.94306372)']\n",
      "Column 'PATROL_BORO' unique values: ['PATROL BORO BKLYN NORTH' 'PATROL BORO MAN NORTH'\n",
      " 'PATROL BORO BKLYN SOUTH' 'PATROL BORO MAN SOUTH' 'PATROL BORO BRONX'\n",
      " 'PATROL BORO QUEENS NORTH' 'PATROL BORO QUEENS SOUTH'\n",
      " 'PATROL BORO STATEN ISLAND' '(NULL)']\n",
      "Column 'STATION_NAME' unique values: ['UNKNOWN' 'Other' 'STREET' 'AVENUE' 'ROAD/PKWY/HIGHWAY/BLVD/LANE'\n",
      " 'HALL/BRIDGE/BUILDING/PIER/TUNNEL/HILL'\n",
      " 'SQUARE/PLAZA/CENTER/TERMINAL/CIRCLE/COURT' 'STATION/AIRPORT'\n",
      " 'PARK/GARDEN/PARKWAY' 'COLLEGE/UNIVERSITY/SCHOOL' 'OFFICE']\n",
      "Column 'VIC_AGE_GROUP' unique values: ['25-44' '45-64' nan '18-24' '<18' '65+' 'UNKNOWN']\n",
      "Column 'VIC_RACE' unique values: ['WHITE' 'WHITE HISPANIC' 'BLACK' 'UNKNOWN' 'ASIAN / PACIFIC ISLANDER'\n",
      " 'BLACK HISPANIC' 'AMERICAN INDIAN/ALASKAN NATIVE' nan]\n",
      "Column 'VIC_SEX' unique values: ['F' 'M' nan]\n"
     ]
    }
   ],
   "execution_count": 33
  },
  {
   "metadata": {},
   "cell_type": "markdown",
   "source": "Prints unique values for each column",
   "id": "c2b6a2a8121ef26"
  },
  {
   "metadata": {
    "ExecuteTime": {
     "end_time": "2024-06-11T10:28:19.507922Z",
     "start_time": "2024-06-11T10:28:13.816752Z"
    }
   },
   "cell_type": "code",
   "source": [
    "print(\"Percentage of missing values for each column:\")\n",
    "missing_percentage = (df.isna().sum() / df.shape[0] * 100).sort_values(ascending=False)\n",
    "print(missing_percentage, \"\\n\")"
   ],
   "id": "7d0f570f1f0ffee0",
   "outputs": [
    {
     "name": "stdout",
     "output_type": "stream",
     "text": [
      "Percentage of missing values for each column:\n",
      "SUSP_AGE_GROUP       58.400991\n",
      "SUSP_SEX             57.386977\n",
      "SUSP_RACE            46.213817\n",
      "VIC_SEX              24.851270\n",
      "VIC_AGE_GROUP        19.634561\n",
      "VIC_RACE              0.003897\n",
      "CMPLNT_FR_DT          0.000000\n",
      "STATION_NAME          0.000000\n",
      "PATROL_BORO           0.000000\n",
      "Lat_Lon               0.000000\n",
      "Longitude             0.000000\n",
      "Latitude              0.000000\n",
      "CMPLNT_NUM            0.000000\n",
      "PREM_TYP_DESC         0.000000\n",
      "LOC_OF_OCCUR_DESC     0.000000\n",
      "BORO_NM               0.000000\n",
      "LAW_CAT_CD            0.000000\n",
      "PD_CD                 0.000000\n",
      "OFNS_DESC             0.000000\n",
      "ADDR_PCT_CD           0.000000\n",
      "CMPLNT_TO_TM          0.000000\n",
      "CMPLNT_TO_DT          0.000000\n",
      "CMPLNT_FR_TM          0.000000\n",
      "HOUSING_PSA           0.000000\n",
      "dtype: float64 \n",
      "\n"
     ]
    }
   ],
   "execution_count": 34
  },
  {
   "metadata": {},
   "cell_type": "markdown",
   "source": "Prints the percentage of missing values for each column",
   "id": "6d7ccab9aab0e6d6"
  },
  {
   "metadata": {},
   "cell_type": "markdown",
   "source": "## 5. Defining Weights for Crime Categories:",
   "id": "b128ba4b74fd6cbe"
  },
  {
   "metadata": {
    "ExecuteTime": {
     "end_time": "2024-06-11T10:28:19.514257Z",
     "start_time": "2024-06-11T10:28:19.509686Z"
    }
   },
   "cell_type": "code",
   "source": "weights = {'FELONY': 2.5, 'MISDEMEANOR': 1.7, 'VIOLATION': 1}",
   "id": "7267c5b9be0c187a",
   "outputs": [],
   "execution_count": 35
  },
  {
   "metadata": {},
   "cell_type": "markdown",
   "source": "'weights': A dictionary mapping crime categories to their respective weights.",
   "id": "815c8768bbfc1606"
  },
  {
   "metadata": {},
   "cell_type": "markdown",
   "source": "## 6. Mapping Weights to the DataFrame:",
   "id": "b7a86a6473695c02"
  },
  {
   "metadata": {
    "ExecuteTime": {
     "end_time": "2024-06-11T10:28:19.752394Z",
     "start_time": "2024-06-11T10:28:19.517392Z"
    }
   },
   "cell_type": "code",
   "source": "df['weighted_crime_count'] = df['LAW_CAT_CD'].map(weights)",
   "id": "e49ddc1d38b0b5ba",
   "outputs": [],
   "execution_count": 36
  },
  {
   "metadata": {},
   "cell_type": "markdown",
   "source": "Adds a new column weighted_crime_count to the DataFrame df by mapping the LAW_CAT_CD values to the predefined weights.",
   "id": "82e86c9db6047d2f"
  },
  {
   "metadata": {},
   "cell_type": "markdown",
   "source": "## 7. Aggregating Data by Time and Precinct:",
   "id": "1774282c9e7a647c"
  },
  {
   "metadata": {
    "ExecuteTime": {
     "end_time": "2024-06-11T10:28:25.571851Z",
     "start_time": "2024-06-11T10:28:19.753725Z"
    }
   },
   "cell_type": "code",
   "source": [
    "df['CMPLNT_FR_DT'] = pd.to_datetime(df['CMPLNT_FR_DT'])\n",
    "df['CMPLNT_FR_TM'] = df['CMPLNT_FR_TM'].apply(lambda x: x.hour)"
   ],
   "id": "12c0743c2e24a3ee",
   "outputs": [],
   "execution_count": 37
  },
  {
   "metadata": {
    "ExecuteTime": {
     "end_time": "2024-06-11T10:28:25.781084Z",
     "start_time": "2024-06-11T10:28:25.576733Z"
    }
   },
   "cell_type": "code",
   "source": "agg_df = df.groupby(['CMPLNT_FR_TM'] + [col for col in df.columns if 'ADDR_PCT_CD' in col])['weighted_crime_count'].sum().reset_index()",
   "id": "b066a05e511419bc",
   "outputs": [],
   "execution_count": 38
  },
  {
   "metadata": {},
   "cell_type": "markdown",
   "source": [
    "Prepares CMPLNT_FR_DT and CMPLNT_FR_TM columns for further usage.\n",
    "\n",
    "Groups the data by CMPLNT_FR_TM and precinct columns, summing the weighted_crime_count for each group."
   ],
   "id": "5c04c8b0ccf289b"
  },
  {
   "metadata": {},
   "cell_type": "markdown",
   "source": "## 8. Defining Danger Levels:",
   "id": "dd7d29d936d07c58"
  },
  {
   "metadata": {
    "ExecuteTime": {
     "end_time": "2024-06-11T10:28:25.789944Z",
     "start_time": "2024-06-11T10:28:25.782059Z"
    }
   },
   "cell_type": "code",
   "source": [
    "threshold_low = agg_df['weighted_crime_count'].quantile(0.30)\n",
    "threshold_high = agg_df['weighted_crime_count'].quantile(0.70)\n",
    "\n",
    "agg_df['danger_level'] = pd.cut(agg_df['weighted_crime_count'], bins=[0, threshold_low, threshold_high, float('inf')], labels=['low', 'mid', 'high'])"
   ],
   "id": "3d589ebfee4e5f11",
   "outputs": [],
   "execution_count": 39
  },
  {
   "metadata": {},
   "cell_type": "markdown",
   "source": [
    "Calculates the 30th and 70th percentiles of weighted_crime_count.\n",
    "\n",
    "Assigns danger levels (low, mid, high) based on these thresholds."
   ],
   "id": "7dd5330edcfd1b13"
  },
  {
   "metadata": {},
   "cell_type": "markdown",
   "source": "## 9. Preparing Features and Labels:",
   "id": "9065e85dbb308a74"
  },
  {
   "metadata": {
    "ExecuteTime": {
     "end_time": "2024-06-11T10:28:25.793999Z",
     "start_time": "2024-06-11T10:28:25.790744Z"
    }
   },
   "cell_type": "code",
   "source": [
    "X = agg_df.drop(columns=['danger_level', 'weighted_crime_count'])\n",
    "y = agg_df['danger_level']"
   ],
   "id": "df85c3cf24bfcd82",
   "outputs": [],
   "execution_count": 40
  },
  {
   "metadata": {},
   "cell_type": "markdown",
   "source": [
    "X: Features for the model (all columns except danger_level and weighted_crime_count).\n",
    "\n",
    "y: Labels for the model (the danger_level column)."
   ],
   "id": "60d4473ef390f768"
  },
  {
   "metadata": {},
   "cell_type": "markdown",
   "source": "## 10. Splitting the Data:",
   "id": "6bff26ed7fdc1075"
  },
  {
   "metadata": {
    "ExecuteTime": {
     "end_time": "2024-06-11T10:28:25.811269Z",
     "start_time": "2024-06-11T10:28:25.794733Z"
    }
   },
   "cell_type": "code",
   "source": "X_train, X_test, y_train, y_test = train_test_split(X, y, test_size=0.2, random_state=42)",
   "id": "d76ef5e24dbb4b84",
   "outputs": [],
   "execution_count": 41
  },
  {
   "metadata": {},
   "cell_type": "markdown",
   "source": "Splits the data into training and testing sets (80% train, 20% test).",
   "id": "4747f564c5df8861"
  },
  {
   "metadata": {},
   "cell_type": "markdown",
   "source": "## 11. Defining Hyperparameter Grid:",
   "id": "76506df7984e6289"
  },
  {
   "metadata": {
    "ExecuteTime": {
     "end_time": "2024-06-11T10:28:25.817086Z",
     "start_time": "2024-06-11T10:28:25.812246Z"
    }
   },
   "cell_type": "code",
   "source": [
    "param_grid = {\n",
    "    'n_estimators': [100, 200],\n",
    "    'learning_rate': [0.01, 0.1, 0.2],\n",
    "    'max_depth': [3, 5, 7]\n",
    "}"
   ],
   "id": "92bb339ba0898c61",
   "outputs": [],
   "execution_count": 42
  },
  {
   "metadata": {},
   "cell_type": "markdown",
   "source": "Defines a grid of hyperparameters for the Gradient Boosting Classifier.",
   "id": "f1dde87485c5e90f"
  },
  {
   "metadata": {},
   "cell_type": "markdown",
   "source": "## 12. Initializing and Fitting GridSearchCV:",
   "id": "2ab964bf0ba4bf55"
  },
  {
   "metadata": {
    "ExecuteTime": {
     "end_time": "2024-06-11T10:28:47.161674Z",
     "start_time": "2024-06-11T10:28:25.819574Z"
    }
   },
   "cell_type": "code",
   "source": [
    "grid_search = GridSearchCV(estimator=GradientBoostingClassifier(random_state=42),\n",
    "                           param_grid=param_grid,\n",
    "                           cv=3,\n",
    "                           n_jobs=-1,\n",
    "                           verbose=2)\n",
    "\n",
    "grid_search.fit(X_train, y_train)"
   ],
   "id": "b9140803d2490f5d",
   "outputs": [
    {
     "name": "stdout",
     "output_type": "stream",
     "text": [
      "Fitting 3 folds for each of 18 candidates, totalling 54 fits\n"
     ]
    },
    {
     "data": {
      "text/plain": [
       "GridSearchCV(cv=3, estimator=GradientBoostingClassifier(random_state=42),\n",
       "             n_jobs=-1,\n",
       "             param_grid={'learning_rate': [0.01, 0.1, 0.2],\n",
       "                         'max_depth': [3, 5, 7], 'n_estimators': [100, 200]},\n",
       "             verbose=2)"
      ],
      "text/html": [
       "<style>#sk-container-id-1 {\n",
       "  /* Definition of color scheme common for light and dark mode */\n",
       "  --sklearn-color-text: black;\n",
       "  --sklearn-color-line: gray;\n",
       "  /* Definition of color scheme for unfitted estimators */\n",
       "  --sklearn-color-unfitted-level-0: #fff5e6;\n",
       "  --sklearn-color-unfitted-level-1: #f6e4d2;\n",
       "  --sklearn-color-unfitted-level-2: #ffe0b3;\n",
       "  --sklearn-color-unfitted-level-3: chocolate;\n",
       "  /* Definition of color scheme for fitted estimators */\n",
       "  --sklearn-color-fitted-level-0: #f0f8ff;\n",
       "  --sklearn-color-fitted-level-1: #d4ebff;\n",
       "  --sklearn-color-fitted-level-2: #b3dbfd;\n",
       "  --sklearn-color-fitted-level-3: cornflowerblue;\n",
       "\n",
       "  /* Specific color for light theme */\n",
       "  --sklearn-color-text-on-default-background: var(--sg-text-color, var(--theme-code-foreground, var(--jp-content-font-color1, black)));\n",
       "  --sklearn-color-background: var(--sg-background-color, var(--theme-background, var(--jp-layout-color0, white)));\n",
       "  --sklearn-color-border-box: var(--sg-text-color, var(--theme-code-foreground, var(--jp-content-font-color1, black)));\n",
       "  --sklearn-color-icon: #696969;\n",
       "\n",
       "  @media (prefers-color-scheme: dark) {\n",
       "    /* Redefinition of color scheme for dark theme */\n",
       "    --sklearn-color-text-on-default-background: var(--sg-text-color, var(--theme-code-foreground, var(--jp-content-font-color1, white)));\n",
       "    --sklearn-color-background: var(--sg-background-color, var(--theme-background, var(--jp-layout-color0, #111)));\n",
       "    --sklearn-color-border-box: var(--sg-text-color, var(--theme-code-foreground, var(--jp-content-font-color1, white)));\n",
       "    --sklearn-color-icon: #878787;\n",
       "  }\n",
       "}\n",
       "\n",
       "#sk-container-id-1 {\n",
       "  color: var(--sklearn-color-text);\n",
       "}\n",
       "\n",
       "#sk-container-id-1 pre {\n",
       "  padding: 0;\n",
       "}\n",
       "\n",
       "#sk-container-id-1 input.sk-hidden--visually {\n",
       "  border: 0;\n",
       "  clip: rect(1px 1px 1px 1px);\n",
       "  clip: rect(1px, 1px, 1px, 1px);\n",
       "  height: 1px;\n",
       "  margin: -1px;\n",
       "  overflow: hidden;\n",
       "  padding: 0;\n",
       "  position: absolute;\n",
       "  width: 1px;\n",
       "}\n",
       "\n",
       "#sk-container-id-1 div.sk-dashed-wrapped {\n",
       "  border: 1px dashed var(--sklearn-color-line);\n",
       "  margin: 0 0.4em 0.5em 0.4em;\n",
       "  box-sizing: border-box;\n",
       "  padding-bottom: 0.4em;\n",
       "  background-color: var(--sklearn-color-background);\n",
       "}\n",
       "\n",
       "#sk-container-id-1 div.sk-container {\n",
       "  /* jupyter's `normalize.less` sets `[hidden] { display: none; }`\n",
       "     but bootstrap.min.css set `[hidden] { display: none !important; }`\n",
       "     so we also need the `!important` here to be able to override the\n",
       "     default hidden behavior on the sphinx rendered scikit-learn.org.\n",
       "     See: https://github.com/scikit-learn/scikit-learn/issues/21755 */\n",
       "  display: inline-block !important;\n",
       "  position: relative;\n",
       "}\n",
       "\n",
       "#sk-container-id-1 div.sk-text-repr-fallback {\n",
       "  display: none;\n",
       "}\n",
       "\n",
       "div.sk-parallel-item,\n",
       "div.sk-serial,\n",
       "div.sk-item {\n",
       "  /* draw centered vertical line to link estimators */\n",
       "  background-image: linear-gradient(var(--sklearn-color-text-on-default-background), var(--sklearn-color-text-on-default-background));\n",
       "  background-size: 2px 100%;\n",
       "  background-repeat: no-repeat;\n",
       "  background-position: center center;\n",
       "}\n",
       "\n",
       "/* Parallel-specific style estimator block */\n",
       "\n",
       "#sk-container-id-1 div.sk-parallel-item::after {\n",
       "  content: \"\";\n",
       "  width: 100%;\n",
       "  border-bottom: 2px solid var(--sklearn-color-text-on-default-background);\n",
       "  flex-grow: 1;\n",
       "}\n",
       "\n",
       "#sk-container-id-1 div.sk-parallel {\n",
       "  display: flex;\n",
       "  align-items: stretch;\n",
       "  justify-content: center;\n",
       "  background-color: var(--sklearn-color-background);\n",
       "  position: relative;\n",
       "}\n",
       "\n",
       "#sk-container-id-1 div.sk-parallel-item {\n",
       "  display: flex;\n",
       "  flex-direction: column;\n",
       "}\n",
       "\n",
       "#sk-container-id-1 div.sk-parallel-item:first-child::after {\n",
       "  align-self: flex-end;\n",
       "  width: 50%;\n",
       "}\n",
       "\n",
       "#sk-container-id-1 div.sk-parallel-item:last-child::after {\n",
       "  align-self: flex-start;\n",
       "  width: 50%;\n",
       "}\n",
       "\n",
       "#sk-container-id-1 div.sk-parallel-item:only-child::after {\n",
       "  width: 0;\n",
       "}\n",
       "\n",
       "/* Serial-specific style estimator block */\n",
       "\n",
       "#sk-container-id-1 div.sk-serial {\n",
       "  display: flex;\n",
       "  flex-direction: column;\n",
       "  align-items: center;\n",
       "  background-color: var(--sklearn-color-background);\n",
       "  padding-right: 1em;\n",
       "  padding-left: 1em;\n",
       "}\n",
       "\n",
       "\n",
       "/* Toggleable style: style used for estimator/Pipeline/ColumnTransformer box that is\n",
       "clickable and can be expanded/collapsed.\n",
       "- Pipeline and ColumnTransformer use this feature and define the default style\n",
       "- Estimators will overwrite some part of the style using the `sk-estimator` class\n",
       "*/\n",
       "\n",
       "/* Pipeline and ColumnTransformer style (default) */\n",
       "\n",
       "#sk-container-id-1 div.sk-toggleable {\n",
       "  /* Default theme specific background. It is overwritten whether we have a\n",
       "  specific estimator or a Pipeline/ColumnTransformer */\n",
       "  background-color: var(--sklearn-color-background);\n",
       "}\n",
       "\n",
       "/* Toggleable label */\n",
       "#sk-container-id-1 label.sk-toggleable__label {\n",
       "  cursor: pointer;\n",
       "  display: block;\n",
       "  width: 100%;\n",
       "  margin-bottom: 0;\n",
       "  padding: 0.5em;\n",
       "  box-sizing: border-box;\n",
       "  text-align: center;\n",
       "}\n",
       "\n",
       "#sk-container-id-1 label.sk-toggleable__label-arrow:before {\n",
       "  /* Arrow on the left of the label */\n",
       "  content: \"▸\";\n",
       "  float: left;\n",
       "  margin-right: 0.25em;\n",
       "  color: var(--sklearn-color-icon);\n",
       "}\n",
       "\n",
       "#sk-container-id-1 label.sk-toggleable__label-arrow:hover:before {\n",
       "  color: var(--sklearn-color-text);\n",
       "}\n",
       "\n",
       "/* Toggleable content - dropdown */\n",
       "\n",
       "#sk-container-id-1 div.sk-toggleable__content {\n",
       "  max-height: 0;\n",
       "  max-width: 0;\n",
       "  overflow: hidden;\n",
       "  text-align: left;\n",
       "  /* unfitted */\n",
       "  background-color: var(--sklearn-color-unfitted-level-0);\n",
       "}\n",
       "\n",
       "#sk-container-id-1 div.sk-toggleable__content.fitted {\n",
       "  /* fitted */\n",
       "  background-color: var(--sklearn-color-fitted-level-0);\n",
       "}\n",
       "\n",
       "#sk-container-id-1 div.sk-toggleable__content pre {\n",
       "  margin: 0.2em;\n",
       "  border-radius: 0.25em;\n",
       "  color: var(--sklearn-color-text);\n",
       "  /* unfitted */\n",
       "  background-color: var(--sklearn-color-unfitted-level-0);\n",
       "}\n",
       "\n",
       "#sk-container-id-1 div.sk-toggleable__content.fitted pre {\n",
       "  /* unfitted */\n",
       "  background-color: var(--sklearn-color-fitted-level-0);\n",
       "}\n",
       "\n",
       "#sk-container-id-1 input.sk-toggleable__control:checked~div.sk-toggleable__content {\n",
       "  /* Expand drop-down */\n",
       "  max-height: 200px;\n",
       "  max-width: 100%;\n",
       "  overflow: auto;\n",
       "}\n",
       "\n",
       "#sk-container-id-1 input.sk-toggleable__control:checked~label.sk-toggleable__label-arrow:before {\n",
       "  content: \"▾\";\n",
       "}\n",
       "\n",
       "/* Pipeline/ColumnTransformer-specific style */\n",
       "\n",
       "#sk-container-id-1 div.sk-label input.sk-toggleable__control:checked~label.sk-toggleable__label {\n",
       "  color: var(--sklearn-color-text);\n",
       "  background-color: var(--sklearn-color-unfitted-level-2);\n",
       "}\n",
       "\n",
       "#sk-container-id-1 div.sk-label.fitted input.sk-toggleable__control:checked~label.sk-toggleable__label {\n",
       "  background-color: var(--sklearn-color-fitted-level-2);\n",
       "}\n",
       "\n",
       "/* Estimator-specific style */\n",
       "\n",
       "/* Colorize estimator box */\n",
       "#sk-container-id-1 div.sk-estimator input.sk-toggleable__control:checked~label.sk-toggleable__label {\n",
       "  /* unfitted */\n",
       "  background-color: var(--sklearn-color-unfitted-level-2);\n",
       "}\n",
       "\n",
       "#sk-container-id-1 div.sk-estimator.fitted input.sk-toggleable__control:checked~label.sk-toggleable__label {\n",
       "  /* fitted */\n",
       "  background-color: var(--sklearn-color-fitted-level-2);\n",
       "}\n",
       "\n",
       "#sk-container-id-1 div.sk-label label.sk-toggleable__label,\n",
       "#sk-container-id-1 div.sk-label label {\n",
       "  /* The background is the default theme color */\n",
       "  color: var(--sklearn-color-text-on-default-background);\n",
       "}\n",
       "\n",
       "/* On hover, darken the color of the background */\n",
       "#sk-container-id-1 div.sk-label:hover label.sk-toggleable__label {\n",
       "  color: var(--sklearn-color-text);\n",
       "  background-color: var(--sklearn-color-unfitted-level-2);\n",
       "}\n",
       "\n",
       "/* Label box, darken color on hover, fitted */\n",
       "#sk-container-id-1 div.sk-label.fitted:hover label.sk-toggleable__label.fitted {\n",
       "  color: var(--sklearn-color-text);\n",
       "  background-color: var(--sklearn-color-fitted-level-2);\n",
       "}\n",
       "\n",
       "/* Estimator label */\n",
       "\n",
       "#sk-container-id-1 div.sk-label label {\n",
       "  font-family: monospace;\n",
       "  font-weight: bold;\n",
       "  display: inline-block;\n",
       "  line-height: 1.2em;\n",
       "}\n",
       "\n",
       "#sk-container-id-1 div.sk-label-container {\n",
       "  text-align: center;\n",
       "}\n",
       "\n",
       "/* Estimator-specific */\n",
       "#sk-container-id-1 div.sk-estimator {\n",
       "  font-family: monospace;\n",
       "  border: 1px dotted var(--sklearn-color-border-box);\n",
       "  border-radius: 0.25em;\n",
       "  box-sizing: border-box;\n",
       "  margin-bottom: 0.5em;\n",
       "  /* unfitted */\n",
       "  background-color: var(--sklearn-color-unfitted-level-0);\n",
       "}\n",
       "\n",
       "#sk-container-id-1 div.sk-estimator.fitted {\n",
       "  /* fitted */\n",
       "  background-color: var(--sklearn-color-fitted-level-0);\n",
       "}\n",
       "\n",
       "/* on hover */\n",
       "#sk-container-id-1 div.sk-estimator:hover {\n",
       "  /* unfitted */\n",
       "  background-color: var(--sklearn-color-unfitted-level-2);\n",
       "}\n",
       "\n",
       "#sk-container-id-1 div.sk-estimator.fitted:hover {\n",
       "  /* fitted */\n",
       "  background-color: var(--sklearn-color-fitted-level-2);\n",
       "}\n",
       "\n",
       "/* Specification for estimator info (e.g. \"i\" and \"?\") */\n",
       "\n",
       "/* Common style for \"i\" and \"?\" */\n",
       "\n",
       ".sk-estimator-doc-link,\n",
       "a:link.sk-estimator-doc-link,\n",
       "a:visited.sk-estimator-doc-link {\n",
       "  float: right;\n",
       "  font-size: smaller;\n",
       "  line-height: 1em;\n",
       "  font-family: monospace;\n",
       "  background-color: var(--sklearn-color-background);\n",
       "  border-radius: 1em;\n",
       "  height: 1em;\n",
       "  width: 1em;\n",
       "  text-decoration: none !important;\n",
       "  margin-left: 1ex;\n",
       "  /* unfitted */\n",
       "  border: var(--sklearn-color-unfitted-level-1) 1pt solid;\n",
       "  color: var(--sklearn-color-unfitted-level-1);\n",
       "}\n",
       "\n",
       ".sk-estimator-doc-link.fitted,\n",
       "a:link.sk-estimator-doc-link.fitted,\n",
       "a:visited.sk-estimator-doc-link.fitted {\n",
       "  /* fitted */\n",
       "  border: var(--sklearn-color-fitted-level-1) 1pt solid;\n",
       "  color: var(--sklearn-color-fitted-level-1);\n",
       "}\n",
       "\n",
       "/* On hover */\n",
       "div.sk-estimator:hover .sk-estimator-doc-link:hover,\n",
       ".sk-estimator-doc-link:hover,\n",
       "div.sk-label-container:hover .sk-estimator-doc-link:hover,\n",
       ".sk-estimator-doc-link:hover {\n",
       "  /* unfitted */\n",
       "  background-color: var(--sklearn-color-unfitted-level-3);\n",
       "  color: var(--sklearn-color-background);\n",
       "  text-decoration: none;\n",
       "}\n",
       "\n",
       "div.sk-estimator.fitted:hover .sk-estimator-doc-link.fitted:hover,\n",
       ".sk-estimator-doc-link.fitted:hover,\n",
       "div.sk-label-container:hover .sk-estimator-doc-link.fitted:hover,\n",
       ".sk-estimator-doc-link.fitted:hover {\n",
       "  /* fitted */\n",
       "  background-color: var(--sklearn-color-fitted-level-3);\n",
       "  color: var(--sklearn-color-background);\n",
       "  text-decoration: none;\n",
       "}\n",
       "\n",
       "/* Span, style for the box shown on hovering the info icon */\n",
       ".sk-estimator-doc-link span {\n",
       "  display: none;\n",
       "  z-index: 9999;\n",
       "  position: relative;\n",
       "  font-weight: normal;\n",
       "  right: .2ex;\n",
       "  padding: .5ex;\n",
       "  margin: .5ex;\n",
       "  width: min-content;\n",
       "  min-width: 20ex;\n",
       "  max-width: 50ex;\n",
       "  color: var(--sklearn-color-text);\n",
       "  box-shadow: 2pt 2pt 4pt #999;\n",
       "  /* unfitted */\n",
       "  background: var(--sklearn-color-unfitted-level-0);\n",
       "  border: .5pt solid var(--sklearn-color-unfitted-level-3);\n",
       "}\n",
       "\n",
       ".sk-estimator-doc-link.fitted span {\n",
       "  /* fitted */\n",
       "  background: var(--sklearn-color-fitted-level-0);\n",
       "  border: var(--sklearn-color-fitted-level-3);\n",
       "}\n",
       "\n",
       ".sk-estimator-doc-link:hover span {\n",
       "  display: block;\n",
       "}\n",
       "\n",
       "/* \"?\"-specific style due to the `<a>` HTML tag */\n",
       "\n",
       "#sk-container-id-1 a.estimator_doc_link {\n",
       "  float: right;\n",
       "  font-size: 1rem;\n",
       "  line-height: 1em;\n",
       "  font-family: monospace;\n",
       "  background-color: var(--sklearn-color-background);\n",
       "  border-radius: 1rem;\n",
       "  height: 1rem;\n",
       "  width: 1rem;\n",
       "  text-decoration: none;\n",
       "  /* unfitted */\n",
       "  color: var(--sklearn-color-unfitted-level-1);\n",
       "  border: var(--sklearn-color-unfitted-level-1) 1pt solid;\n",
       "}\n",
       "\n",
       "#sk-container-id-1 a.estimator_doc_link.fitted {\n",
       "  /* fitted */\n",
       "  border: var(--sklearn-color-fitted-level-1) 1pt solid;\n",
       "  color: var(--sklearn-color-fitted-level-1);\n",
       "}\n",
       "\n",
       "/* On hover */\n",
       "#sk-container-id-1 a.estimator_doc_link:hover {\n",
       "  /* unfitted */\n",
       "  background-color: var(--sklearn-color-unfitted-level-3);\n",
       "  color: var(--sklearn-color-background);\n",
       "  text-decoration: none;\n",
       "}\n",
       "\n",
       "#sk-container-id-1 a.estimator_doc_link.fitted:hover {\n",
       "  /* fitted */\n",
       "  background-color: var(--sklearn-color-fitted-level-3);\n",
       "}\n",
       "</style><div id=\"sk-container-id-1\" class=\"sk-top-container\"><div class=\"sk-text-repr-fallback\"><pre>GridSearchCV(cv=3, estimator=GradientBoostingClassifier(random_state=42),\n",
       "             n_jobs=-1,\n",
       "             param_grid={&#x27;learning_rate&#x27;: [0.01, 0.1, 0.2],\n",
       "                         &#x27;max_depth&#x27;: [3, 5, 7], &#x27;n_estimators&#x27;: [100, 200]},\n",
       "             verbose=2)</pre><b>In a Jupyter environment, please rerun this cell to show the HTML representation or trust the notebook. <br />On GitHub, the HTML representation is unable to render, please try loading this page with nbviewer.org.</b></div><div class=\"sk-container\" hidden><div class=\"sk-item sk-dashed-wrapped\"><div class=\"sk-label-container\"><div class=\"sk-label fitted sk-toggleable\"><input class=\"sk-toggleable__control sk-hidden--visually\" id=\"sk-estimator-id-1\" type=\"checkbox\" ><label for=\"sk-estimator-id-1\" class=\"sk-toggleable__label fitted sk-toggleable__label-arrow fitted\">&nbsp;&nbsp;GridSearchCV<a class=\"sk-estimator-doc-link fitted\" rel=\"noreferrer\" target=\"_blank\" href=\"https://scikit-learn.org/1.4/modules/generated/sklearn.model_selection.GridSearchCV.html\">?<span>Documentation for GridSearchCV</span></a><span class=\"sk-estimator-doc-link fitted\">i<span>Fitted</span></span></label><div class=\"sk-toggleable__content fitted\"><pre>GridSearchCV(cv=3, estimator=GradientBoostingClassifier(random_state=42),\n",
       "             n_jobs=-1,\n",
       "             param_grid={&#x27;learning_rate&#x27;: [0.01, 0.1, 0.2],\n",
       "                         &#x27;max_depth&#x27;: [3, 5, 7], &#x27;n_estimators&#x27;: [100, 200]},\n",
       "             verbose=2)</pre></div> </div></div><div class=\"sk-parallel\"><div class=\"sk-parallel-item\"><div class=\"sk-item\"><div class=\"sk-label-container\"><div class=\"sk-label fitted sk-toggleable\"><input class=\"sk-toggleable__control sk-hidden--visually\" id=\"sk-estimator-id-2\" type=\"checkbox\" ><label for=\"sk-estimator-id-2\" class=\"sk-toggleable__label fitted sk-toggleable__label-arrow fitted\">estimator: GradientBoostingClassifier</label><div class=\"sk-toggleable__content fitted\"><pre>GradientBoostingClassifier(random_state=42)</pre></div> </div></div><div class=\"sk-serial\"><div class=\"sk-item\"><div class=\"sk-estimator fitted sk-toggleable\"><input class=\"sk-toggleable__control sk-hidden--visually\" id=\"sk-estimator-id-3\" type=\"checkbox\" ><label for=\"sk-estimator-id-3\" class=\"sk-toggleable__label fitted sk-toggleable__label-arrow fitted\">&nbsp;GradientBoostingClassifier<a class=\"sk-estimator-doc-link fitted\" rel=\"noreferrer\" target=\"_blank\" href=\"https://scikit-learn.org/1.4/modules/generated/sklearn.ensemble.GradientBoostingClassifier.html\">?<span>Documentation for GradientBoostingClassifier</span></a></label><div class=\"sk-toggleable__content fitted\"><pre>GradientBoostingClassifier(random_state=42)</pre></div> </div></div></div></div></div></div></div></div></div>"
      ]
     },
     "execution_count": 43,
     "metadata": {},
     "output_type": "execute_result"
    }
   ],
   "execution_count": 43
  },
  {
   "metadata": {},
   "cell_type": "markdown",
   "source": [
    "Initializes GridSearchCV with the Gradient Boosting Classifier and the hyperparameter grid.\n",
    "\n",
    "Fits GridSearchCV to the training data to find the best hyperparameters."
   ],
   "id": "491c69871f6c47d"
  },
  {
   "metadata": {},
   "cell_type": "markdown",
   "source": "## 13. Outputting Best Parameters and Score:",
   "id": "120840628b5f9f6c"
  },
  {
   "metadata": {
    "ExecuteTime": {
     "end_time": "2024-06-11T10:28:47.174274Z",
     "start_time": "2024-06-11T10:28:47.164481Z"
    }
   },
   "cell_type": "code",
   "source": [
    "print(f\"Best parameters: {grid_search.best_params_}\")\n",
    "print(f\"Best score: {grid_search.best_score_}\")"
   ],
   "id": "3861c612bf2b8862",
   "outputs": [
    {
     "name": "stdout",
     "output_type": "stream",
     "text": [
      "Best parameters: {'learning_rate': 0.2, 'max_depth': 3, 'n_estimators': 200}\n",
      "Best score: 0.8089430894308943\n"
     ]
    }
   ],
   "execution_count": 44
  },
  {
   "metadata": {},
   "cell_type": "markdown",
   "source": "Prints the best hyperparameters and the corresponding score.",
   "id": "f1c851f37aa2f688"
  },
  {
   "metadata": {},
   "cell_type": "markdown",
   "source": "## 14. Predicting and Evaluating the Model:",
   "id": "9cb719ed19224807"
  },
  {
   "metadata": {
    "ExecuteTime": {
     "end_time": "2024-06-11T10:28:47.194674Z",
     "start_time": "2024-06-11T10:28:47.177227Z"
    }
   },
   "cell_type": "code",
   "source": [
    "best_model = grid_search.best_estimator_\n",
    "y_pred = best_model.predict(X_test)"
   ],
   "id": "67341006b8722db0",
   "outputs": [],
   "execution_count": 45
  },
  {
   "metadata": {
    "ExecuteTime": {
     "end_time": "2024-06-11T10:28:47.212786Z",
     "start_time": "2024-06-11T10:28:47.197509Z"
    }
   },
   "cell_type": "code",
   "source": "print(classification_report(y_test, y_pred))",
   "id": "ac04f98441c72ac0",
   "outputs": [
    {
     "name": "stdout",
     "output_type": "stream",
     "text": [
      "              precision    recall  f1-score   support\n",
      "\n",
      "        high       0.84      0.86      0.85       100\n",
      "         low       0.83      0.84      0.83       119\n",
      "         mid       0.78      0.76      0.77       151\n",
      "\n",
      "    accuracy                           0.81       370\n",
      "   macro avg       0.82      0.82      0.82       370\n",
      "weighted avg       0.81      0.81      0.81       370\n",
      "\n"
     ]
    }
   ],
   "execution_count": 46
  },
  {
   "metadata": {},
   "cell_type": "markdown",
   "source": [
    "Uses the best model from GridSearchCV to make predictions on the test set.\n",
    "Prints the classification report to evaluate model performance."
   ],
   "id": "43596758312ae2fa"
  },
  {
   "metadata": {},
   "cell_type": "code",
   "outputs": [],
   "execution_count": null,
   "source": "",
   "id": "815ebcc5e3b3166b"
  }
 ],
 "metadata": {
  "kernelspec": {
   "display_name": "Python 3",
   "language": "python",
   "name": "python3"
  },
  "language_info": {
   "codemirror_mode": {
    "name": "ipython",
    "version": 2
   },
   "file_extension": ".py",
   "mimetype": "text/x-python",
   "name": "python",
   "nbconvert_exporter": "python",
   "pygments_lexer": "ipython2",
   "version": "2.7.6"
  }
 },
 "nbformat": 4,
 "nbformat_minor": 5
}
